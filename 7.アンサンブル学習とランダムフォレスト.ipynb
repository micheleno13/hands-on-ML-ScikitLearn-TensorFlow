{
 "cells": [
  {
   "cell_type": "markdown",
   "metadata": {},
   "source": [
    "# 投票分類器"
   ]
  },
  {
   "cell_type": "code",
   "execution_count": 41,
   "metadata": {},
   "outputs": [
    {
     "name": "stdout",
     "output_type": "stream",
     "text": [
      "X.shape (100, 2)\n",
      "y.shape (100,)\n"
     ]
    },
    {
     "data": {
      "text/plain": [
       "VotingClassifier(estimators=[('lr', LogisticRegression(C=1.0, class_weight=None, dual=False, fit_intercept=True,\n",
       "          intercept_scaling=1, max_iter=100, multi_class='ovr', n_jobs=1,\n",
       "          penalty='l2', random_state=None, solver='liblinear', tol=0.0001,\n",
       "          verbose=0, warm_start=False)), ('rc', RandomF...',\n",
       "  max_iter=-1, probability=True, random_state=None, shrinking=True,\n",
       "  tol=0.001, verbose=False))],\n",
       "         flatten_transform=None, n_jobs=1, voting='soft', weights=None)"
      ]
     },
     "execution_count": 41,
     "metadata": {},
     "output_type": "execute_result"
    }
   ],
   "source": [
    "from sklearn.ensemble import RandomForestClassifier\n",
    "from sklearn.ensemble import VotingClassifier\n",
    "from sklearn.linear_model import LogisticRegression\n",
    "from sklearn.svm import SVC\n",
    "\n",
    "from sklearn.datasets import make_moons\n",
    "from sklearn.model_selection import train_test_split\n",
    "\n",
    "X, y = make_moons()[0], make_moons()[1]\n",
    "print(\"X.shape\", X.shape)\n",
    "print(\"y.shape\", y.shape)\n",
    "\n",
    "X_train, X_val, y_train, y_val = train_test_split(X, y, test_size=0.2)\n",
    "\n",
    "log_clf = LogisticRegression()\n",
    "rnd_clf = RandomForestClassifier()\n",
    "svc_clf = SVC(probability=True)\n",
    "\n",
    "hard_voting_clf = VotingClassifier(\n",
    "    estimators=[(\"lr\", log_clf), (\"rc\", rnd_clf), (\"svc\", svc_clf)], voting=\"hard\")\n",
    "hard_voting_clf.fit(X_train, y_train)\n",
    "\n",
    "soft_voting_clf = VotingClassifier(\n",
    "    estimators=[(\"lr\", log_clf), (\"rc\", rnd_clf), (\"svc\", svc_clf)], voting=\"soft\")\n",
    "soft_voting_clf.fit(X_train, y_train)"
   ]
  },
  {
   "cell_type": "code",
   "execution_count": 18,
   "metadata": {},
   "outputs": [
    {
     "name": "stdout",
     "output_type": "stream",
     "text": [
      "LogisticRegression 0.4\n",
      "RandomForestClassifier 0.45\n",
      "SVC 0.4\n",
      "VotingClassifier 0.4\n",
      "VotingClassifier 0.4\n"
     ]
    },
    {
     "name": "stderr",
     "output_type": "stream",
     "text": [
      "/home/vagrant/.pyenv/versions/3.6.5/lib/python3.6/site-packages/sklearn/preprocessing/label.py:151: DeprecationWarning: The truth value of an empty array is ambiguous. Returning False, but in future this will result in an error. Use `array.size > 0` to check that an array is not empty.\n",
      "  if diff:\n",
      "/home/vagrant/.pyenv/versions/3.6.5/lib/python3.6/site-packages/sklearn/preprocessing/label.py:151: DeprecationWarning: The truth value of an empty array is ambiguous. Returning False, but in future this will result in an error. Use `array.size > 0` to check that an array is not empty.\n",
      "  if diff:\n"
     ]
    }
   ],
   "source": [
    "from sklearn.metrics import accuracy_score\n",
    "\n",
    "for clf in (log_clf, rnd_clf, svc_clf, hard_voting_clf, soft_voting_clf):\n",
    "    clf.fit(X_train, y_train)\n",
    "    y_pred = clf.predict(X_val)\n",
    "    print(clf.__class__.__name__, accuracy_score(y_val, y_pred))"
   ]
  },
  {
   "cell_type": "markdown",
   "metadata": {},
   "source": [
    "# バギングとペースティング"
   ]
  },
  {
   "cell_type": "code",
   "execution_count": 34,
   "metadata": {},
   "outputs": [
    {
     "data": {
      "text/plain": [
       "array([0, 0, 0, 1, 1, 1, 0, 1, 1, 0, 0, 1, 1, 1, 1, 1, 1, 1, 1, 0])"
      ]
     },
     "execution_count": 34,
     "metadata": {},
     "output_type": "execute_result"
    }
   ],
   "source": [
    "from sklearn.ensemble import BaggingClassifier\n",
    "from sklearn.tree import DecisionTreeClassifier\n",
    "\n",
    "bag_clf = BaggingClassifier(DecisionTreeClassifier(), n_estimators=500, max_samples=0.9, bootstrap=True, n_jobs=-1, oob_score=True)\n",
    "bag_clf.fit(X_train, y_train)\n",
    "bag_clf.predict(X_val)\n"
   ]
  },
  {
   "cell_type": "code",
   "execution_count": 35,
   "metadata": {},
   "outputs": [
    {
     "data": {
      "text/plain": [
       "array([[0.922, 0.078],\n",
       "       [0.84 , 0.16 ],\n",
       "       [0.868, 0.132],\n",
       "       [0.31 , 0.69 ],\n",
       "       [0.418, 0.582],\n",
       "       [0.032, 0.968],\n",
       "       [0.574, 0.426],\n",
       "       [0.216, 0.784],\n",
       "       [0.446, 0.554],\n",
       "       [0.542, 0.458],\n",
       "       [0.51 , 0.49 ],\n",
       "       [0.256, 0.744],\n",
       "       [0.292, 0.708],\n",
       "       [0.48 , 0.52 ],\n",
       "       [0.064, 0.936],\n",
       "       [0.328, 0.672],\n",
       "       [0.266, 0.734],\n",
       "       [0.034, 0.966],\n",
       "       [0.106, 0.894],\n",
       "       [0.948, 0.052]])"
      ]
     },
     "execution_count": 35,
     "metadata": {},
     "output_type": "execute_result"
    }
   ],
   "source": [
    "bag_clf.predict_proba(X_val)"
   ]
  },
  {
   "cell_type": "code",
   "execution_count": 36,
   "metadata": {},
   "outputs": [
    {
     "data": {
      "text/plain": [
       "0.525"
      ]
     },
     "execution_count": 36,
     "metadata": {},
     "output_type": "execute_result"
    }
   ],
   "source": [
    "bag_clf.oob_score_"
   ]
  },
  {
   "cell_type": "code",
   "execution_count": 37,
   "metadata": {},
   "outputs": [
    {
     "data": {
      "text/plain": [
       "0.4"
      ]
     },
     "execution_count": 37,
     "metadata": {},
     "output_type": "execute_result"
    }
   ],
   "source": [
    "from sklearn.metrics import accuracy_score\n",
    "\n",
    "y_pred = bag_clf.predict(X_val)\n",
    "accuracy_score(y_pred, y_val)"
   ]
  },
  {
   "cell_type": "code",
   "execution_count": 38,
   "metadata": {},
   "outputs": [
    {
     "data": {
      "text/plain": [
       "array([[0.66829268, 0.33170732],\n",
       "       [0.55188679, 0.44811321],\n",
       "       [0.5879397 , 0.4120603 ],\n",
       "       [0.73023256, 0.26976744],\n",
       "       [0.56923077, 0.43076923],\n",
       "       [0.43661972, 0.56338028],\n",
       "       [0.19672131, 0.80327869],\n",
       "       [0.67357513, 0.32642487],\n",
       "       [0.15492958, 0.84507042],\n",
       "       [0.63888889, 0.36111111],\n",
       "       [0.07614213, 0.92385787],\n",
       "       [0.49302326, 0.50697674],\n",
       "       [0.71634615, 0.28365385],\n",
       "       [0.24056604, 0.75943396],\n",
       "       [0.75274725, 0.24725275],\n",
       "       [0.52995392, 0.47004608],\n",
       "       [0.53365385, 0.46634615],\n",
       "       [0.90731707, 0.09268293],\n",
       "       [0.76165803, 0.23834197],\n",
       "       [0.29896907, 0.70103093],\n",
       "       [0.39790576, 0.60209424],\n",
       "       [0.82901554, 0.17098446],\n",
       "       [0.83253589, 0.16746411],\n",
       "       [0.55882353, 0.44117647],\n",
       "       [0.73796791, 0.26203209],\n",
       "       [0.33035714, 0.66964286],\n",
       "       [0.73809524, 0.26190476],\n",
       "       [0.09734513, 0.90265487],\n",
       "       [0.79792746, 0.20207254],\n",
       "       [0.76168224, 0.23831776],\n",
       "       [0.09569378, 0.90430622],\n",
       "       [0.10679612, 0.89320388],\n",
       "       [0.89795918, 0.10204082],\n",
       "       [0.08133971, 0.91866029],\n",
       "       [0.41708543, 0.58291457],\n",
       "       [0.42931937, 0.57068063],\n",
       "       [0.87309645, 0.12690355],\n",
       "       [0.87437186, 0.12562814],\n",
       "       [0.93518519, 0.06481481],\n",
       "       [0.885     , 0.115     ],\n",
       "       [0.54017857, 0.45982143],\n",
       "       [0.76963351, 0.23036649],\n",
       "       [0.58247423, 0.41752577],\n",
       "       [0.27040816, 0.72959184],\n",
       "       [0.26415094, 0.73584906],\n",
       "       [0.165     , 0.835     ],\n",
       "       [0.60962567, 0.39037433],\n",
       "       [0.09803922, 0.90196078],\n",
       "       [0.8071066 , 0.1928934 ],\n",
       "       [0.890625  , 0.109375  ],\n",
       "       [0.55675676, 0.44324324],\n",
       "       [0.04522613, 0.95477387],\n",
       "       [0.18627451, 0.81372549],\n",
       "       [0.01895735, 0.98104265],\n",
       "       [0.64583333, 0.35416667],\n",
       "       [0.09547739, 0.90452261],\n",
       "       [0.52657005, 0.47342995],\n",
       "       [0.64      , 0.36      ],\n",
       "       [0.15942029, 0.84057971],\n",
       "       [0.69668246, 0.30331754],\n",
       "       [0.03954802, 0.96045198],\n",
       "       [0.74736842, 0.25263158],\n",
       "       [0.08796296, 0.91203704],\n",
       "       [0.45595855, 0.54404145],\n",
       "       [0.805     , 0.195     ],\n",
       "       [0.83823529, 0.16176471],\n",
       "       [0.06637168, 0.93362832],\n",
       "       [0.2985782 , 0.7014218 ],\n",
       "       [0.22380952, 0.77619048],\n",
       "       [0.01913876, 0.98086124],\n",
       "       [0.37777778, 0.62222222],\n",
       "       [0.78238342, 0.21761658],\n",
       "       [0.57575758, 0.42424242],\n",
       "       [0.20465116, 0.79534884],\n",
       "       [0.2020202 , 0.7979798 ],\n",
       "       [0.87434555, 0.12565445],\n",
       "       [0.32      , 0.68      ],\n",
       "       [0.97716895, 0.02283105],\n",
       "       [0.47169811, 0.52830189],\n",
       "       [0.46560847, 0.53439153]])"
      ]
     },
     "execution_count": 38,
     "metadata": {},
     "output_type": "execute_result"
    }
   ],
   "source": [
    "bag_clf.oob_decision_function_"
   ]
  },
  {
   "cell_type": "markdown",
   "metadata": {},
   "source": [
    "# ランダムフォレスト"
   ]
  },
  {
   "cell_type": "code",
   "execution_count": 48,
   "metadata": {},
   "outputs": [
    {
     "data": {
      "text/plain": [
       "array([1, 0, 0, 1, 0, 0, 1, 1, 1, 1, 0, 1, 1, 0, 1, 1, 0, 1, 1, 1])"
      ]
     },
     "execution_count": 48,
     "metadata": {},
     "output_type": "execute_result"
    }
   ],
   "source": [
    "from sklearn.ensemble import RandomForestClassifier\n",
    "\n",
    "rnd_clf = RandomForestClassifier(n_estimators=500, max_leaf_nodes=16, n_jobs=-1)\n",
    "rnd_clf.fit(X, y)\n",
    "rnd_clf.predict(X_val)"
   ]
  },
  {
   "cell_type": "code",
   "execution_count": 49,
   "metadata": {},
   "outputs": [
    {
     "data": {
      "text/plain": [
       "array([1, 0, 0, 1, 0, 0, 1, 1, 1, 1, 0, 0, 1, 0, 1, 1, 0, 1, 1, 1])"
      ]
     },
     "execution_count": 49,
     "metadata": {},
     "output_type": "execute_result"
    }
   ],
   "source": [
    "bag_clf = BaggingClassifier(\n",
    "    DecisionTreeClassifier(splitter=\"random\", max_leaf_nodes=16),\n",
    "    n_estimators=500, max_samples=1.0, bootstrap=True, n_jobs=-1)\n",
    "bag_clf.fit(X, y)\n",
    "bag_clf.predict(X_val)"
   ]
  },
  {
   "cell_type": "markdown",
   "metadata": {},
   "source": [
    "## 特徴量の重要度"
   ]
  },
  {
   "cell_type": "code",
   "execution_count": 51,
   "metadata": {},
   "outputs": [
    {
     "name": "stdout",
     "output_type": "stream",
     "text": [
      "sepal length (cm) 0.10250168588778182\n",
      "sepal width (cm) 0.02654776376963677\n",
      "petal length (cm) 0.42821605417580216\n",
      "petal width (cm) 0.4427344961667791\n"
     ]
    }
   ],
   "source": [
    "from sklearn.datasets import load_iris\n",
    "\n",
    "iris = load_iris()\n",
    "rnd_clf = RandomForestClassifier(n_estimators=500, n_jobs=-1)\n",
    "rnd_clf.fit(iris[\"data\"], iris[\"target\"])\n",
    "\n",
    "for name, score in zip(iris[\"feature_names\"], rnd_clf.feature_importances_):\n",
    "    print(name, score)\n",
    "    "
   ]
  },
  {
   "cell_type": "markdown",
   "metadata": {},
   "source": [
    "# ブースティング"
   ]
  },
  {
   "cell_type": "markdown",
   "metadata": {},
   "source": [
    "## アダブースト(AdaBoost)"
   ]
  },
  {
   "cell_type": "code",
   "execution_count": 57,
   "metadata": {},
   "outputs": [
    {
     "data": {
      "text/plain": [
       "array([0, 1, 0, 1, 1, 0, 1, 1, 0, 0, 1, 0, 0, 0, 1, 0, 1, 1, 0, 1])"
      ]
     },
     "execution_count": 57,
     "metadata": {},
     "output_type": "execute_result"
    }
   ],
   "source": [
    "from sklearn.ensemble import AdaBoostClassifier\n",
    "\n",
    "ada_clf = AdaBoostClassifier(\n",
    "    DecisionTreeClassifier(max_depth=1),n_estimators=200, algorithm=\"SAMME.R\", learning_rate=0.5)\n",
    "ada_clf.fit(X_train, y_train)\n",
    "ada_clf.predict(X_val)"
   ]
  },
  {
   "cell_type": "markdown",
   "metadata": {},
   "source": [
    "## 勾配ブースティング"
   ]
  },
  {
   "cell_type": "code",
   "execution_count": 64,
   "metadata": {},
   "outputs": [
    {
     "data": {
      "text/plain": [
       "array([0.6794938 , 0.93403926, 1.12051944, 1.12051944, 0.6794938 ,\n",
       "       1.12051944, 1.12051944, 1.12051944, 1.12051944, 0.90108471,\n",
       "       1.12051944, 1.12051944, 0.6794938 , 1.12051944, 0.6794938 ,\n",
       "       0.90108471, 0.90108471, 0.93403926, 1.12051944, 0.66666667,\n",
       "       1.12051944, 0.93403926, 1.12051944, 1.12051944, 0.93403926,\n",
       "       1.12051944, 0.        , 1.12051944, 0.90108471, 0.90108471,\n",
       "       1.12051944, 0.        , 2.        , 2.        , 1.12051944,\n",
       "       1.12051944, 1.12051944, 0.6794938 , 0.90108471, 0.93403926,\n",
       "       1.12051944, 0.93403926, 1.12051944, 1.12051944, 1.12051944,\n",
       "       0.6794938 , 2.        , 0.90108471, 0.90108471, 0.6794938 ,\n",
       "       1.12051944, 1.12051944, 0.90108471, 0.90108471, 0.90108471,\n",
       "       0.90108471, 1.12051944, 1.12051944, 0.90108471, 0.90108471,\n",
       "       0.90108471, 0.90108471, 0.93403926, 0.90108471, 0.90108471,\n",
       "       1.12051944, 1.12051944, 2.        , 2.        , 0.90108471,\n",
       "       0.90108471, 1.12051944, 1.12051944, 0.6794938 , 1.12051944,\n",
       "       0.93403926, 0.66666667, 0.93403926, 1.12051944, 0.90108471,\n",
       "       0.90108471, 0.90108471, 0.6794938 , 1.12051944, 0.93403926,\n",
       "       0.6794938 , 0.90108471, 1.12051944, 0.90108471, 0.93403926,\n",
       "       0.        , 1.12051944, 2.        , 0.90108471, 1.12051944,\n",
       "       0.90108471, 0.66666667, 1.12051944, 0.90108471, 1.12051944])"
      ]
     },
     "execution_count": 64,
     "metadata": {},
     "output_type": "execute_result"
    }
   ],
   "source": [
    "from sklearn.tree import DecisionTreeRegressor\n",
    "\n",
    "tree_reg1 = DecisionTreeRegressor(max_depth=2)\n",
    "tree_reg1.fit(X, y)\n",
    "\n",
    "y2 = y - tree_reg1.predict(X)\n",
    "tree_reg2 = DecisionTreeRegressor(max_depth=2)\n",
    "tree_reg2.fit(X, y2)\n",
    "\n",
    "y3 = y - tree_reg2.predict(X)\n",
    "tree_reg3 = DecisionTreeRegressor(max_depth=2)\n",
    "tree_reg3.fit(X, y3)\n",
    "\n",
    "y_pred = sum(tree.predict(X) for tree in (tree_reg1, tree_reg2, tree_reg3))\n",
    "y_pred"
   ]
  },
  {
   "cell_type": "code",
   "execution_count": 65,
   "metadata": {},
   "outputs": [
    {
     "data": {
      "text/plain": [
       "GradientBoostingRegressor(alpha=0.9, criterion='friedman_mse', init=None,\n",
       "             learning_rate=1.0, loss='ls', max_depth=2, max_features=None,\n",
       "             max_leaf_nodes=None, min_impurity_decrease=0.0,\n",
       "             min_impurity_split=None, min_samples_leaf=1,\n",
       "             min_samples_split=2, min_weight_fraction_leaf=0.0,\n",
       "             n_estimators=3, presort='auto', random_state=None,\n",
       "             subsample=1.0, verbose=0, warm_start=False)"
      ]
     },
     "execution_count": 65,
     "metadata": {},
     "output_type": "execute_result"
    }
   ],
   "source": [
    "from sklearn.ensemble import GradientBoostingRegressor\n",
    "\n",
    "gbrt_reg = GradientBoostingRegressor(max_depth=2, n_estimators=3, learning_rate=1.0)\n",
    "gbrt_reg.fit(X, y)"
   ]
  },
  {
   "cell_type": "code",
   "execution_count": 67,
   "metadata": {},
   "outputs": [
    {
     "data": {
      "text/plain": [
       "GradientBoostingRegressor(alpha=0.9, criterion='friedman_mse', init=None,\n",
       "             learning_rate=0.1, loss='ls', max_depth=2, max_features=None,\n",
       "             max_leaf_nodes=None, min_impurity_decrease=0.0,\n",
       "             min_impurity_split=None, min_samples_leaf=1,\n",
       "             min_samples_split=2, min_weight_fraction_leaf=0.0,\n",
       "             n_estimators=1, presort='auto', random_state=None,\n",
       "             subsample=1.0, verbose=0, warm_start=False)"
      ]
     },
     "execution_count": 67,
     "metadata": {},
     "output_type": "execute_result"
    }
   ],
   "source": [
    "import numpy as np\n",
    "from sklearn.model_selection import train_test_split\n",
    "from sklearn.metrics import mean_squared_error\n",
    "\n",
    "X_train, X_val, y_train, y_val = train_test_split(X, y)\n",
    "\n",
    "gbrt_reg = GradientBoostingRegressor(max_depth=2, n_estimators=120)\n",
    "gbrt_reg.fit(X_train, y_train)\n",
    "\n",
    "errors = [mean_squared_error(y_val, y_pred) for y_pred in gbrt_reg.staged_predict(X_val)]\n",
    "best_n_estimator = np.argmin(errors)\n",
    "\n",
    "gbrt_reg = GradientBoostingRegressor(max_depth=2, n_estimators=best_n_estimator)\n",
    "gbrt_reg.fit(X_train, y_train)"
   ]
  },
  {
   "cell_type": "code",
   "execution_count": 69,
   "metadata": {},
   "outputs": [
    {
     "data": {
      "text/plain": [
       "GradientBoostingRegressor(alpha=0.9, criterion='friedman_mse', init=None,\n",
       "             learning_rate=0.1, loss='ls', max_depth=2, max_features=None,\n",
       "             max_leaf_nodes=None, min_impurity_decrease=0.0,\n",
       "             min_impurity_split=None, min_samples_leaf=1,\n",
       "             min_samples_split=2, min_weight_fraction_leaf=0.0,\n",
       "             n_estimators=7, presort='auto', random_state=None,\n",
       "             subsample=1.0, verbose=0, warm_start=True)"
      ]
     },
     "execution_count": 69,
     "metadata": {},
     "output_type": "execute_result"
    }
   ],
   "source": [
    "gbrt_reg = GradientBoostingRegressor(max_depth=2, warm_start=True)\n",
    "\n",
    "min_val_error = float(\"inf\")\n",
    "error_going_up = 0\n",
    "for n_estimator in range(1, 120):\n",
    "    gbrt_reg.n_estimators = n_estimator\n",
    "    gbrt_reg.fit(X_train, y_train)\n",
    "    y_pred = gbrt_reg.predict(X_val)\n",
    "    val_error = mean_squared_error(y_val, y_pred)\n",
    "    if val_error < min_val_error:\n",
    "        min_val_error = val_error\n",
    "        error_going_up = 0\n",
    "    else:\n",
    "        error_going_up += 1\n",
    "        \n",
    "    if error_going_up == 5:\n",
    "        break\n",
    "\n",
    "gbrt_reg"
   ]
  }
 ],
 "metadata": {
  "kernelspec": {
   "display_name": "Python 3",
   "language": "python",
   "name": "python3"
  },
  "language_info": {
   "codemirror_mode": {
    "name": "ipython",
    "version": 3
   },
   "file_extension": ".py",
   "mimetype": "text/x-python",
   "name": "python",
   "nbconvert_exporter": "python",
   "pygments_lexer": "ipython3",
   "version": "3.6.5"
  }
 },
 "nbformat": 4,
 "nbformat_minor": 2
}
