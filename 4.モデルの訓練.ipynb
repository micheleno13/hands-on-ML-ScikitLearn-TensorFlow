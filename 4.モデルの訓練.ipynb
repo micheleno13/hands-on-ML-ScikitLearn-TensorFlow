{
 "cells": [
  {
   "cell_type": "markdown",
   "metadata": {},
   "source": [
    "# 線形回帰"
   ]
  },
  {
   "cell_type": "markdown",
   "metadata": {},
   "source": [
    "## 正規方程式"
   ]
  },
  {
   "cell_type": "code",
   "execution_count": 1,
   "metadata": {},
   "outputs": [
    {
     "data": {
      "text/plain": [
       "<Figure size 640x480 with 1 Axes>"
      ]
     },
     "metadata": {},
     "output_type": "display_data"
    }
   ],
   "source": [
    "import numpy as np\n",
    "import matplotlib.pyplot as plt\n",
    "\n",
    "X = 2 * np.random.rand(100, 1)\n",
    "y = 4 + 3 * X + np.random.randn(100, 1)\n",
    "plt.plot(X, y, \"b.\")\n",
    "plt.show()"
   ]
  },
  {
   "cell_type": "code",
   "execution_count": 2,
   "metadata": {},
   "outputs": [
    {
     "data": {
      "text/plain": [
       "array([[3.91396451],\n",
       "       [3.29746815]])"
      ]
     },
     "execution_count": 2,
     "metadata": {},
     "output_type": "execute_result"
    }
   ],
   "source": [
    "X_b = np.c_[np.ones((100, 1)), X]\n",
    "theta_best = np.linalg.inv(X_b.T.dot(X_b)).dot(X_b.T).dot(y)\n",
    "theta_best"
   ]
  },
  {
   "cell_type": "code",
   "execution_count": 3,
   "metadata": {},
   "outputs": [
    {
     "data": {
      "text/plain": [
       "array([[ 3.91396451],\n",
       "       [10.5089008 ]])"
      ]
     },
     "execution_count": 3,
     "metadata": {},
     "output_type": "execute_result"
    }
   ],
   "source": [
    "X_new = np.array([[0], [2]])\n",
    "X_new_b = np.c_[np.ones((2, 1)), X_new]\n",
    "y_predict = X_new_b.dot(theta_best)\n",
    "y_predict"
   ]
  },
  {
   "cell_type": "code",
   "execution_count": 4,
   "metadata": {},
   "outputs": [
    {
     "data": {
      "image/png": "[encoded data removed]",
      "text/plain": [
       "<Figure size 432x288 with 1 Axes>"
      ]
     },
     "metadata": {},
     "output_type": "display_data"
    }
   ],
   "source": [
    "plt.plot(X_new, y_predict, \"r--\")\n",
    "plt.plot(X, y, \"b.\")\n",
    "plt.axis([0, 2, 0, 15])\n",
    "plt.show()"
   ]
  },
  {
   "cell_type": "code",
   "execution_count": 5,
   "metadata": {},
   "outputs": [
    {
     "data": {
      "text/plain": [
       "(array([3.91396451]), array([[3.29746815]]))"
      ]
     },
     "execution_count": 5,
     "metadata": {},
     "output_type": "execute_result"
    }
   ],
   "source": [
    "from sklearn.linear_model import LinearRegression\n",
    "\n",
    "lin_reg = LinearRegression()\n",
    "lin_reg.fit(X, y)\n",
    "lin_reg.intercept_, lin_reg.coef_"
   ]
  },
  {
   "cell_type": "code",
   "execution_count": 6,
   "metadata": {},
   "outputs": [
    {
     "data": {
      "text/plain": [
       "array([[ 3.91396451],\n",
       "       [10.5089008 ]])"
      ]
     },
     "execution_count": 6,
     "metadata": {},
     "output_type": "execute_result"
    }
   ],
   "source": [
    "lin_predict = lin_reg.predict(X_new)\n",
    "lin_predict"
   ]
  },
  {
   "cell_type": "code",
   "execution_count": 7,
   "metadata": {},
   "outputs": [
    {
     "data": {
      "image/png": "[encoded data removed]",
      "text/plain": [
       "<Figure size 432x288 with 1 Axes>"
      ]
     },
     "metadata": {},
     "output_type": "display_data"
    }
   ],
   "source": [
    "plt.plot(X_new, y_predict, \"r--\")\n",
    "plt.plot(X_new, lin_predict, \"g--\")\n",
    "plt.plot(X, y, \"b.\")\n",
    "plt.axis([0, 2, 0, 15])\n",
    "plt.show()"
   ]
  },
  {
   "cell_type": "markdown",
   "metadata": {},
   "source": [
    "# 勾配降下法"
   ]
  },
  {
   "cell_type": "markdown",
   "metadata": {},
   "source": [
    "## バッチ勾配降下法"
   ]
  },
  {
   "cell_type": "code",
   "execution_count": 8,
   "metadata": {},
   "outputs": [
    {
     "data": {
      "text/plain": [
       "array([[-1.43794399],\n",
       "       [-0.22801896]])"
      ]
     },
     "execution_count": 8,
     "metadata": {},
     "output_type": "execute_result"
    }
   ],
   "source": [
    "eta = 0.1\n",
    "n_iterations = 10000\n",
    "m = 100\n",
    "\n",
    "theta = np.random.randn(2, 1)\n",
    "theta"
   ]
  },
  {
   "cell_type": "code",
   "execution_count": 9,
   "metadata": {},
   "outputs": [
    {
     "data": {
      "text/plain": [
       "array([[3.91396451],\n",
       "       [3.29746815]])"
      ]
     },
     "execution_count": 9,
     "metadata": {},
     "output_type": "execute_result"
    }
   ],
   "source": [
    "for iteration in range(n_iterations):\n",
    "    gradients = 2 / m * X_b.T.dot(X_b.dot(theta) - y)\n",
    "    theta = theta - eta * gradients\n",
    "    \n",
    "theta"
   ]
  },
  {
   "cell_type": "markdown",
   "metadata": {},
   "source": [
    "## 確率的勾配降下法"
   ]
  },
  {
   "cell_type": "code",
   "execution_count": 10,
   "metadata": {},
   "outputs": [
    {
     "data": {
      "text/plain": [
       "array([[0.98949446],\n",
       "       [0.04386652]])"
      ]
     },
     "execution_count": 10,
     "metadata": {},
     "output_type": "execute_result"
    }
   ],
   "source": [
    "n_epochs = 50\n",
    "t0, t1 = 5, 50\n",
    "\n",
    "def learning_schedule(t):\n",
    "    return t0 / (t + t1)\n",
    "\n",
    "theta = np.random.randn(2, 1)\n",
    "theta"
   ]
  },
  {
   "cell_type": "code",
   "execution_count": 11,
   "metadata": {},
   "outputs": [
    {
     "data": {
      "text/plain": [
       "array([[3.89017904],\n",
       "       [3.2950397 ]])"
      ]
     },
     "execution_count": 11,
     "metadata": {},
     "output_type": "execute_result"
    }
   ],
   "source": [
    "for epoch in range(n_epochs):\n",
    "    for i in range(m):\n",
    "        random_index = np.random.randint(m)\n",
    "        xi = X_b[random_index : random_index + 1]\n",
    "        yi = y[random_index : random_index + 1]\n",
    "#        print(\"random_index\", random_index)\n",
    "#        print(\"x_i\", xi)\n",
    "#        print(\"y_i\", yi)\n",
    "        \n",
    "        gradients = 2 * xi.T.dot(xi.dot(theta) - yi)\n",
    "        eta = learning_schedule(epoch * m + i)\n",
    "        theta = theta - eta * gradients\n",
    "#        print(\"theta\", theta)\n",
    "        \n",
    "theta"
   ]
  },
  {
   "cell_type": "code",
   "execution_count": 12,
   "metadata": {},
   "outputs": [
    {
     "name": "stdout",
     "output_type": "stream",
     "text": [
      "intercept: [3.92131561]\n",
      "coef: [3.29512269]\n"
     ]
    }
   ],
   "source": [
    "from sklearn.linear_model import SGDRegressor\n",
    "\n",
    "sgd_reg = SGDRegressor(max_iter=50, penalty=None, eta0=0.1)\n",
    "sgd_reg.fit(X, y.ravel())\n",
    "print(\"intercept:\", sgd_reg.intercept_)\n",
    "print(\"coef:\", sgd_reg.coef_)"
   ]
  },
  {
   "cell_type": "markdown",
   "metadata": {},
   "source": [
    "# 多項式回帰"
   ]
  },
  {
   "cell_type": "code",
   "execution_count": 13,
   "metadata": {
    "scrolled": true
   },
   "outputs": [
    {
     "data": {
      "text/plain": [
       "array([[-1.80626564],\n",
       "       [ 1.15704903],\n",
       "       [ 2.92076461],\n",
       "       [ 0.92559753],\n",
       "       [-2.82368082],\n",
       "       [ 1.51281062],\n",
       "       [-2.49033308],\n",
       "       [ 1.61085749],\n",
       "       [-2.99656903],\n",
       "       [-1.74832532],\n",
       "       [-1.95902979],\n",
       "       [-2.5140813 ],\n",
       "       [ 1.44122224],\n",
       "       [ 1.06278752],\n",
       "       [ 1.48951175],\n",
       "       [-0.42570319],\n",
       "       [ 0.50545924],\n",
       "       [-1.81776412],\n",
       "       [ 2.17228517],\n",
       "       [-0.15617984],\n",
       "       [-2.87209703],\n",
       "       [-2.94431364],\n",
       "       [-2.75269207],\n",
       "       [ 2.39943139],\n",
       "       [-2.31963571],\n",
       "       [-1.38511155],\n",
       "       [-2.05006214],\n",
       "       [ 2.25917959],\n",
       "       [ 2.63719333],\n",
       "       [ 1.80731009],\n",
       "       [ 0.06688663],\n",
       "       [-2.26507877],\n",
       "       [-0.93204245],\n",
       "       [-1.27344883],\n",
       "       [-1.24756279],\n",
       "       [ 2.48591533],\n",
       "       [ 1.79823996],\n",
       "       [ 0.76679924],\n",
       "       [-1.54710304],\n",
       "       [-0.61090558],\n",
       "       [ 1.00017839],\n",
       "       [-1.5828843 ],\n",
       "       [ 1.16287235],\n",
       "       [-2.80465864],\n",
       "       [ 2.79480936],\n",
       "       [ 2.37782787],\n",
       "       [ 2.58570064],\n",
       "       [-0.15536914],\n",
       "       [ 1.01015964],\n",
       "       [-2.26162702],\n",
       "       [ 2.41371773],\n",
       "       [ 2.05098991],\n",
       "       [-1.35698181],\n",
       "       [-1.21835889],\n",
       "       [ 1.35796392],\n",
       "       [-2.89650426],\n",
       "       [-1.90083011],\n",
       "       [-1.52084478],\n",
       "       [-1.35904117],\n",
       "       [ 0.73916222],\n",
       "       [ 2.03584068],\n",
       "       [ 2.23904589],\n",
       "       [-2.02906902],\n",
       "       [-0.31712612],\n",
       "       [-1.2518447 ],\n",
       "       [ 0.97445439],\n",
       "       [-1.87029481],\n",
       "       [-2.65563222],\n",
       "       [ 1.64479023],\n",
       "       [ 1.83149626],\n",
       "       [ 2.78648557],\n",
       "       [ 0.50524866],\n",
       "       [-1.74488791],\n",
       "       [ 1.27879618],\n",
       "       [-1.17872521],\n",
       "       [-2.50312518],\n",
       "       [-1.75054701],\n",
       "       [-2.24690194],\n",
       "       [ 1.05737445],\n",
       "       [-0.82584743],\n",
       "       [-2.24545488],\n",
       "       [ 0.57121892],\n",
       "       [-2.18298847],\n",
       "       [-2.20026167],\n",
       "       [ 1.17538031],\n",
       "       [ 0.70751791],\n",
       "       [-2.24304393],\n",
       "       [ 0.76136689],\n",
       "       [ 1.41322298],\n",
       "       [ 0.60734127],\n",
       "       [ 2.91465188],\n",
       "       [-0.53541778],\n",
       "       [ 2.68835251],\n",
       "       [-0.51566712],\n",
       "       [-2.56315763],\n",
       "       [ 1.37734194],\n",
       "       [ 2.67662592],\n",
       "       [-1.25799814],\n",
       "       [ 0.72614132],\n",
       "       [ 0.2083364 ]])"
      ]
     },
     "execution_count": 13,
     "metadata": {},
     "output_type": "execute_result"
    }
   ],
   "source": [
    "m = 100\n",
    "X = 6 * np.random.rand(m, 1) - 3\n",
    "X"
   ]
  },
  {
   "cell_type": "code",
   "execution_count": 14,
   "metadata": {
    "scrolled": true
   },
   "outputs": [
    {
     "data": {
      "text/plain": [
       "array([[ 2.12067087],\n",
       "       [ 2.6172    ],\n",
       "       [ 7.16581131],\n",
       "       [ 2.22424678],\n",
       "       [ 4.06932673],\n",
       "       [ 4.75055528],\n",
       "       [ 1.98461474],\n",
       "       [ 5.07556859],\n",
       "       [ 4.74644498],\n",
       "       [ 1.15132004],\n",
       "       [ 1.21437961],\n",
       "       [ 2.10026346],\n",
       "       [ 5.82652763],\n",
       "       [ 1.77089277],\n",
       "       [ 4.88644467],\n",
       "       [ 1.56811354],\n",
       "       [ 3.4864119 ],\n",
       "       [ 2.99525726],\n",
       "       [ 6.99960822],\n",
       "       [ 2.59426985],\n",
       "       [ 4.18871105],\n",
       "       [ 1.67363126],\n",
       "       [ 4.73088131],\n",
       "       [ 8.47928664],\n",
       "       [ 2.33976673],\n",
       "       [ 1.17111189],\n",
       "       [ 2.16542475],\n",
       "       [ 7.67225204],\n",
       "       [ 7.9777742 ],\n",
       "       [ 7.20652375],\n",
       "       [ 0.46942324],\n",
       "       [ 1.89415447],\n",
       "       [ 1.26528079],\n",
       "       [ 0.98130737],\n",
       "       [ 0.6868131 ],\n",
       "       [ 7.13400211],\n",
       "       [ 6.3416248 ],\n",
       "       [ 3.86677595],\n",
       "       [ 1.16926049],\n",
       "       [ 0.54786718],\n",
       "       [ 4.6935158 ],\n",
       "       [ 1.5948913 ],\n",
       "       [ 3.84787749],\n",
       "       [ 2.51919564],\n",
       "       [ 9.15660102],\n",
       "       [ 7.63640242],\n",
       "       [ 8.28813973],\n",
       "       [ 2.45944958],\n",
       "       [ 5.05801228],\n",
       "       [ 1.8378635 ],\n",
       "       [ 8.12417369],\n",
       "       [ 3.49325965],\n",
       "       [ 2.36712733],\n",
       "       [ 2.49127912],\n",
       "       [ 4.72333941],\n",
       "       [ 2.50511286],\n",
       "       [ 1.35467028],\n",
       "       [ 2.73608423],\n",
       "       [ 1.98932283],\n",
       "       [ 4.30015935],\n",
       "       [ 5.20303579],\n",
       "       [ 6.93275451],\n",
       "       [ 1.51924742],\n",
       "       [ 0.73178864],\n",
       "       [ 2.82042499],\n",
       "       [ 1.08069269],\n",
       "       [ 1.90163183],\n",
       "       [ 2.75720596],\n",
       "       [ 5.95543721],\n",
       "       [ 5.8153124 ],\n",
       "       [10.61068765],\n",
       "       [ 2.77780302],\n",
       "       [ 2.65348863],\n",
       "       [ 3.73084594],\n",
       "       [ 1.49971051],\n",
       "       [ 3.23417093],\n",
       "       [ 1.25424527],\n",
       "       [ 1.76888379],\n",
       "       [ 2.97088405],\n",
       "       [ 2.21316335],\n",
       "       [ 2.67713225],\n",
       "       [ 3.47657292],\n",
       "       [ 2.9831319 ],\n",
       "       [ 0.8173703 ],\n",
       "       [ 2.86782955],\n",
       "       [ 2.22692987],\n",
       "       [ 1.31340716],\n",
       "       [ 3.19286707],\n",
       "       [ 5.21784424],\n",
       "       [ 3.70701445],\n",
       "       [ 9.45511436],\n",
       "       [ 1.19588969],\n",
       "       [ 9.26231371],\n",
       "       [ 0.37789882],\n",
       "       [ 2.91980576],\n",
       "       [ 3.6994271 ],\n",
       "       [ 7.55632252],\n",
       "       [ 0.95417477],\n",
       "       [ 3.18465108],\n",
       "       [ 1.89080759]])"
      ]
     },
     "execution_count": 14,
     "metadata": {},
     "output_type": "execute_result"
    }
   ],
   "source": [
    "y = 0.5 * X ** 2 + X + 2 + np.random.randn(m, 1)\n",
    "y"
   ]
  },
  {
   "cell_type": "code",
   "execution_count": 15,
   "metadata": {},
   "outputs": [
    {
     "data": {
      "image/png": "[encoded data removed]",
      "text/plain": [
       "<Figure size 432x288 with 1 Axes>"
      ]
     },
     "metadata": {},
     "output_type": "display_data"
    }
   ],
   "source": [
    "plt.plot(X, y, \"b.\")\n",
    "plt.show()"
   ]
  },
  {
   "cell_type": "code",
   "execution_count": 16,
   "metadata": {
    "scrolled": true
   },
   "outputs": [
    {
     "data": {
      "text/plain": [
       "array([[-1.80626564e+00,  3.26259558e+00],\n",
       "       [ 1.15704903e+00,  1.33876247e+00],\n",
       "       [ 2.92076461e+00,  8.53086588e+00],\n",
       "       [ 9.25597532e-01,  8.56730790e-01],\n",
       "       [-2.82368082e+00,  7.97317336e+00],\n",
       "       [ 1.51281062e+00,  2.28859598e+00],\n",
       "       [-2.49033308e+00,  6.20175884e+00],\n",
       "       [ 1.61085749e+00,  2.59486184e+00],\n",
       "       [-2.99656903e+00,  8.97942598e+00],\n",
       "       [-1.74832532e+00,  3.05664141e+00],\n",
       "       [-1.95902979e+00,  3.83779773e+00],\n",
       "       [-2.51408130e+00,  6.32060479e+00],\n",
       "       [ 1.44122224e+00,  2.07712155e+00],\n",
       "       [ 1.06278752e+00,  1.12951730e+00],\n",
       "       [ 1.48951175e+00,  2.21864525e+00],\n",
       "       [-4.25703192e-01,  1.81223207e-01],\n",
       "       [ 5.05459243e-01,  2.55489046e-01],\n",
       "       [-1.81776412e+00,  3.30426641e+00],\n",
       "       [ 2.17228517e+00,  4.71882286e+00],\n",
       "       [-1.56179840e-01,  2.43921424e-02],\n",
       "       [-2.87209703e+00,  8.24894133e+00],\n",
       "       [-2.94431364e+00,  8.66898280e+00],\n",
       "       [-2.75269207e+00,  7.57731364e+00],\n",
       "       [ 2.39943139e+00,  5.75727101e+00],\n",
       "       [-2.31963571e+00,  5.38070984e+00],\n",
       "       [-1.38511155e+00,  1.91853401e+00],\n",
       "       [-2.05006214e+00,  4.20275478e+00],\n",
       "       [ 2.25917959e+00,  5.10389243e+00],\n",
       "       [ 2.63719333e+00,  6.95478866e+00],\n",
       "       [ 1.80731009e+00,  3.26636976e+00],\n",
       "       [ 6.68866292e-02,  4.47382116e-03],\n",
       "       [-2.26507877e+00,  5.13058183e+00],\n",
       "       [-9.32042447e-01,  8.68703123e-01],\n",
       "       [-1.27344883e+00,  1.62167193e+00],\n",
       "       [-1.24756279e+00,  1.55641290e+00],\n",
       "       [ 2.48591533e+00,  6.17977502e+00],\n",
       "       [ 1.79823996e+00,  3.23366694e+00],\n",
       "       [ 7.66799238e-01,  5.87981071e-01],\n",
       "       [-1.54710304e+00,  2.39352780e+00],\n",
       "       [-6.10905578e-01,  3.73205626e-01],\n",
       "       [ 1.00017839e+00,  1.00035681e+00],\n",
       "       [-1.58288430e+00,  2.50552272e+00],\n",
       "       [ 1.16287235e+00,  1.35227210e+00],\n",
       "       [-2.80465864e+00,  7.86611009e+00],\n",
       "       [ 2.79480936e+00,  7.81095936e+00],\n",
       "       [ 2.37782787e+00,  5.65406537e+00],\n",
       "       [ 2.58570064e+00,  6.68584777e+00],\n",
       "       [-1.55369145e-01,  2.41395712e-02],\n",
       "       [ 1.01015964e+00,  1.02042250e+00],\n",
       "       [-2.26162702e+00,  5.11495676e+00],\n",
       "       [ 2.41371773e+00,  5.82603327e+00],\n",
       "       [ 2.05098991e+00,  4.20655962e+00],\n",
       "       [-1.35698181e+00,  1.84139963e+00],\n",
       "       [-1.21835889e+00,  1.48439838e+00],\n",
       "       [ 1.35796392e+00,  1.84406601e+00],\n",
       "       [-2.89650426e+00,  8.38973690e+00],\n",
       "       [-1.90083011e+00,  3.61315510e+00],\n",
       "       [-1.52084478e+00,  2.31296886e+00],\n",
       "       [-1.35904117e+00,  1.84699291e+00],\n",
       "       [ 7.39162216e-01,  5.46360781e-01],\n",
       "       [ 2.03584068e+00,  4.14464727e+00],\n",
       "       [ 2.23904589e+00,  5.01332648e+00],\n",
       "       [-2.02906902e+00,  4.11712110e+00],\n",
       "       [-3.17126120e-01,  1.00568976e-01],\n",
       "       [-1.25184470e+00,  1.56711516e+00],\n",
       "       [ 9.74454393e-01,  9.49561365e-01],\n",
       "       [-1.87029481e+00,  3.49800267e+00],\n",
       "       [-2.65563222e+00,  7.05238248e+00],\n",
       "       [ 1.64479023e+00,  2.70533490e+00],\n",
       "       [ 1.83149626e+00,  3.35437853e+00],\n",
       "       [ 2.78648557e+00,  7.76450181e+00],\n",
       "       [ 5.05248665e-01,  2.55276213e-01],\n",
       "       [-1.74488791e+00,  3.04463383e+00],\n",
       "       [ 1.27879618e+00,  1.63531968e+00],\n",
       "       [-1.17872521e+00,  1.38939311e+00],\n",
       "       [-2.50312518e+00,  6.26563569e+00],\n",
       "       [-1.75054701e+00,  3.06441484e+00],\n",
       "       [-2.24690194e+00,  5.04856833e+00],\n",
       "       [ 1.05737445e+00,  1.11804073e+00],\n",
       "       [-8.25847428e-01,  6.82023975e-01],\n",
       "       [-2.24545488e+00,  5.04206762e+00],\n",
       "       [ 5.71218921e-01,  3.26291055e-01],\n",
       "       [-2.18298847e+00,  4.76543865e+00],\n",
       "       [-2.20026167e+00,  4.84115140e+00],\n",
       "       [ 1.17538031e+00,  1.38151886e+00],\n",
       "       [ 7.07517905e-01,  5.00581586e-01],\n",
       "       [-2.24304393e+00,  5.03124608e+00],\n",
       "       [ 7.61366892e-01,  5.79679544e-01],\n",
       "       [ 1.41322298e+00,  1.99719918e+00],\n",
       "       [ 6.07341271e-01,  3.68863419e-01],\n",
       "       [ 2.91465188e+00,  8.49519560e+00],\n",
       "       [-5.35417780e-01,  2.86672199e-01],\n",
       "       [ 2.68835251e+00,  7.22723919e+00],\n",
       "       [-5.15667122e-01,  2.65912580e-01],\n",
       "       [-2.56315763e+00,  6.56977705e+00],\n",
       "       [ 1.37734194e+00,  1.89707083e+00],\n",
       "       [ 2.67662592e+00,  7.16432631e+00],\n",
       "       [-1.25799814e+00,  1.58255932e+00],\n",
       "       [ 7.26141317e-01,  5.27281212e-01],\n",
       "       [ 2.08336405e-01,  4.34040576e-02]])"
      ]
     },
     "execution_count": 16,
     "metadata": {},
     "output_type": "execute_result"
    }
   ],
   "source": [
    "from sklearn.preprocessing import PolynomialFeatures\n",
    "\n",
    "poly_features = PolynomialFeatures(degree=2, include_bias=False)\n",
    "X_poly = poly_features.fit_transform(X)\n",
    "X_poly"
   ]
  },
  {
   "cell_type": "code",
   "execution_count": 17,
   "metadata": {},
   "outputs": [
    {
     "data": {
      "text/plain": [
       "(array([1.94500488]), array([[1.04393638, 0.523496  ]]))"
      ]
     },
     "execution_count": 17,
     "metadata": {},
     "output_type": "execute_result"
    }
   ],
   "source": [
    "lin_reg = LinearRegression()\n",
    "lin_reg.fit(X_poly, y)\n",
    "lin_reg.intercept_, lin_reg.coef_"
   ]
  },
  {
   "cell_type": "markdown",
   "metadata": {},
   "source": [
    "# 学習曲線"
   ]
  },
  {
   "cell_type": "code",
   "execution_count": 18,
   "metadata": {},
   "outputs": [],
   "source": [
    "from sklearn.metrics import mean_squared_error\n",
    "from sklearn.model_selection import train_test_split\n",
    "\n",
    "def plot_learning_curves(model, X, y):\n",
    "    X_train, X_val, y_train, y_val = train_test_split(X, y, test_size=0.2)\n",
    "    train_errors, val_errors = [], []\n",
    "    for m in range(1, len(X_train)):\n",
    "        model.fit(X_train[:m], y_train[:m])\n",
    "        y_train_predict = model.predict(X_train[:m])\n",
    "        y_val_predict = model.predict(X_val)\n",
    "        train_errors.append(mean_squared_error(y_train_predict, y_train[:m]))\n",
    "        val_errors.append(mean_squared_error(y_val_predict, y_val))\n",
    "    plt.plot(np.sqrt(train_errors), \"r-+\", linewidth=2, label=\"train\")\n",
    "    plt.plot(np.sqrt(val_errors), \"b-\", linewidth=3, label=\"val\")"
   ]
  },
  {
   "cell_type": "code",
   "execution_count": 19,
   "metadata": {},
   "outputs": [
    {
     "data": {
      "image/png": "[encoded data removed]",
      "text/plain": [
       "<Figure size 432x288 with 1 Axes>"
      ]
     },
     "metadata": {},
     "output_type": "display_data"
    }
   ],
   "source": [
    "lin_reg = LinearRegression()\n",
    "plot_learning_curves(lin_reg, X, y)"
   ]
  },
  {
   "cell_type": "code",
   "execution_count": 20,
   "metadata": {},
   "outputs": [
    {
     "data": {
      "image/png": "[encoded data removed]",
      "text/plain": [
       "<Figure size 432x288 with 1 Axes>"
      ]
     },
     "metadata": {},
     "output_type": "display_data"
    }
   ],
   "source": [
    "from sklearn.pipeline import Pipeline\n",
    "\n",
    "polynomial_regression = Pipeline([\n",
    "    (\"poly_features\", PolynomialFeatures(degree=10, include_bias=False)),\n",
    "    (\"lin_reg\", LinearRegression())\n",
    "])\n",
    "\n",
    "plot_learning_curves(polynomial_regression, X, y)"
   ]
  },
  {
   "cell_type": "markdown",
   "metadata": {},
   "source": [
    "# 正則化された線形回帰"
   ]
  },
  {
   "cell_type": "markdown",
   "metadata": {},
   "source": [
    "## リッジ回帰"
   ]
  },
  {
   "cell_type": "code",
   "execution_count": 21,
   "metadata": {},
   "outputs": [
    {
     "data": {
      "text/plain": [
       "array([[5.14530995]])"
      ]
     },
     "execution_count": 21,
     "metadata": {},
     "output_type": "execute_result"
    }
   ],
   "source": [
    "from sklearn.linear_model import Ridge\n",
    "\n",
    "ridge_reg = Ridge(alpha=1, solver=\"cholesky\")\n",
    "ridge_reg.fit(X, y)\n",
    "ridge_reg.predict([[1.5]])"
   ]
  },
  {
   "cell_type": "code",
   "execution_count": 22,
   "metadata": {},
   "outputs": [
    {
     "data": {
      "text/plain": [
       "array([4.14111271])"
      ]
     },
     "execution_count": 22,
     "metadata": {},
     "output_type": "execute_result"
    }
   ],
   "source": [
    "sgd_reg = SGDRegressor(max_iter=5, penalty=\"l2\")\n",
    "sgd_reg.fit(X, y.ravel())\n",
    "sgd_reg.predict([[1.5]])"
   ]
  },
  {
   "cell_type": "markdown",
   "metadata": {},
   "source": [
    "## Lasso回帰"
   ]
  },
  {
   "cell_type": "code",
   "execution_count": 23,
   "metadata": {},
   "outputs": [
    {
     "data": {
      "text/plain": [
       "array([5.10169343])"
      ]
     },
     "execution_count": 23,
     "metadata": {},
     "output_type": "execute_result"
    }
   ],
   "source": [
    "from sklearn.linear_model import Lasso\n",
    "\n",
    "lasso_reg = Lasso(alpha=0.1)\n",
    "lasso_reg.fit(X, y)\n",
    "lasso_reg.predict([[1.5]])"
   ]
  },
  {
   "cell_type": "code",
   "execution_count": 24,
   "metadata": {},
   "outputs": [
    {
     "data": {
      "text/plain": [
       "array([4.09823488])"
      ]
     },
     "execution_count": 24,
     "metadata": {},
     "output_type": "execute_result"
    }
   ],
   "source": [
    "sgd_reg = SGDRegressor(max_iter=5, penalty=\"l1\")\n",
    "sgd_reg.fit(X, y.ravel())\n",
    "sgd_reg.predict([[1.5]])"
   ]
  },
  {
   "cell_type": "markdown",
   "metadata": {},
   "source": [
    "## Elastic Net"
   ]
  },
  {
   "cell_type": "code",
   "execution_count": 25,
   "metadata": {},
   "outputs": [
    {
     "data": {
      "text/plain": [
       "array([5.10345863])"
      ]
     },
     "execution_count": 25,
     "metadata": {},
     "output_type": "execute_result"
    }
   ],
   "source": [
    "from sklearn.linear_model import ElasticNet\n",
    "\n",
    "elastic_net = ElasticNet(alpha=0.1, l1_ratio=0.5)\n",
    "elastic_net.fit(X, y)\n",
    "elastic_net.predict([[1.5]])"
   ]
  },
  {
   "cell_type": "markdown",
   "metadata": {},
   "source": [
    "## 早期打ち切り"
   ]
  },
  {
   "cell_type": "code",
   "execution_count": 26,
   "metadata": {},
   "outputs": [
    {
     "name": "stdout",
     "output_type": "stream",
     "text": [
      "1.0684070138112414\n",
      "923\n",
      "SGDRegressor(alpha=0.0001, average=False, epsilon=0.1, eta0=0.0005,\n",
      "       fit_intercept=True, l1_ratio=0.15, learning_rate='constant',\n",
      "       loss='squared_loss', max_iter=1, n_iter=None, penalty=None,\n",
      "       power_t=0.25, random_state=None, shuffle=True, tol=None, verbose=0,\n",
      "       warm_start=True)\n"
     ]
    }
   ],
   "source": [
    "from sklearn.base import clone\n",
    "from sklearn.preprocessing import StandardScaler\n",
    "\n",
    "X_train, X_val, y_train, y_val = train_test_split(X, y, test_size=0.2)\n",
    "\n",
    "poly_scaler = Pipeline([\n",
    "    (\"poly_features\", PolynomialFeatures(degree=90, include_bias=False)),\n",
    "    (\"std_scaler\", StandardScaler())\n",
    "])\n",
    "\n",
    "X_train_poly_scaled = poly_scaler.fit_transform(X_train)\n",
    "X_val_poly_scaled = poly_scaler.transform(X_val)\n",
    "\n",
    "sgd_reg = SGDRegressor(max_iter=1, warm_start=True, penalty=None, learning_rate=\"constant\", eta0=0.0005)\n",
    "\n",
    "minimum_val_error = float(\"inf\")\n",
    "best_epoch = None\n",
    "best_model = None\n",
    "\n",
    "for epoch in range(1000):\n",
    "    sgd_reg.fit(X_train_poly_scaled, y_train.ravel())\n",
    "    y_val_predict = sgd_reg.predict(X_val_poly_scaled)\n",
    "    val_error = mean_squared_error(y_val_predict, y_val)\n",
    "    if val_error < minimum_val_error:\n",
    "        minimum_val_error = val_error\n",
    "        best_epoch = epoch\n",
    "        best_model = clone(sgd_reg)\n",
    "        \n",
    "print(minimum_val_error)\n",
    "print(best_epoch)\n",
    "print(best_model)"
   ]
  },
  {
   "cell_type": "markdown",
   "metadata": {},
   "source": [
    "# ロジスティック回帰"
   ]
  },
  {
   "cell_type": "code",
   "execution_count": 27,
   "metadata": {},
   "outputs": [
    {
     "data": {
      "text/plain": [
       "['data', 'target', 'target_names', 'DESCR', 'feature_names']"
      ]
     },
     "execution_count": 27,
     "metadata": {},
     "output_type": "execute_result"
    }
   ],
   "source": [
    "from sklearn import datasets\n",
    "\n",
    "iris = datasets.load_iris()\n",
    "list(iris.keys())"
   ]
  },
  {
   "cell_type": "code",
   "execution_count": 28,
   "metadata": {},
   "outputs": [],
   "source": [
    "X = iris[\"data\"][:, 3:]\n",
    "y = (iris[\"target\"] == 2).astype(np.int)"
   ]
  },
  {
   "cell_type": "code",
   "execution_count": 29,
   "metadata": {},
   "outputs": [
    {
     "data": {
      "text/plain": [
       "LogisticRegression(C=1.0, class_weight=None, dual=False, fit_intercept=True,\n",
       "          intercept_scaling=1, max_iter=100, multi_class='ovr', n_jobs=1,\n",
       "          penalty='l2', random_state=None, solver='liblinear', tol=0.0001,\n",
       "          verbose=0, warm_start=False)"
      ]
     },
     "execution_count": 29,
     "metadata": {},
     "output_type": "execute_result"
    }
   ],
   "source": [
    "from sklearn.linear_model import LogisticRegression\n",
    "\n",
    "log_reg = LogisticRegression()\n",
    "log_reg.fit(X, y)"
   ]
  },
  {
   "cell_type": "code",
   "execution_count": 30,
   "metadata": {},
   "outputs": [
    {
     "data": {
      "image/png": "[encoded data removed]",
      "text/plain": [
       "<Figure size 432x288 with 1 Axes>"
      ]
     },
     "metadata": {},
     "output_type": "display_data"
    }
   ],
   "source": [
    "X_new = np.linspace(0, 3, 1000).reshape(-1, 1)\n",
    "y_proba = log_reg.predict_proba(X_new)\n",
    "\n",
    "plt.plot(X_new, y_proba[:, 1], \"g--\", label=\"Iris-Virginica\")\n",
    "plt.plot(X_new, y_proba[:, 0], \"b--\", label=\"Not Iris-Virginica\")\n",
    "plt.show()"
   ]
  },
  {
   "cell_type": "code",
   "execution_count": 118,
   "metadata": {},
   "outputs": [
    {
     "name": "stdout",
     "output_type": "stream",
     "text": [
      "[[0.2]\n",
      " [0.2]\n",
      " [0.2]\n",
      " [0.2]\n",
      " [0.2]\n",
      " [0.4]\n",
      " [0.3]\n",
      " [0.2]\n",
      " [0.2]\n",
      " [0.1]\n",
      " [0.2]\n",
      " [0.2]\n",
      " [0.1]\n",
      " [0.1]\n",
      " [0.2]\n",
      " [0.4]\n",
      " [0.4]\n",
      " [0.3]\n",
      " [0.3]\n",
      " [0.3]\n",
      " [0.2]\n",
      " [0.4]\n",
      " [0.2]\n",
      " [0.5]\n",
      " [0.2]\n",
      " [0.2]\n",
      " [0.4]\n",
      " [0.2]\n",
      " [0.2]\n",
      " [0.2]\n",
      " [0.2]\n",
      " [0.4]\n",
      " [0.1]\n",
      " [0.2]\n",
      " [0.1]\n",
      " [0.2]\n",
      " [0.2]\n",
      " [0.1]\n",
      " [0.2]\n",
      " [0.2]\n",
      " [0.3]\n",
      " [0.3]\n",
      " [0.2]\n",
      " [0.6]\n",
      " [0.4]\n",
      " [0.3]\n",
      " [0.2]\n",
      " [0.2]\n",
      " [0.2]\n",
      " [0.2]\n",
      " [1.4]\n",
      " [1.5]\n",
      " [1.5]\n",
      " [1.3]\n",
      " [1.5]\n",
      " [1.3]\n",
      " [1.6]\n",
      " [1. ]\n",
      " [1.3]\n",
      " [1.4]\n",
      " [1. ]\n",
      " [1.5]\n",
      " [1. ]\n",
      " [1.4]\n",
      " [1.3]\n",
      " [1.4]\n",
      " [1.5]\n",
      " [1. ]\n",
      " [1.5]\n",
      " [1.1]\n",
      " [1.8]\n",
      " [1.3]\n",
      " [1.5]\n",
      " [1.2]\n",
      " [1.3]\n",
      " [1.4]\n",
      " [1.4]\n",
      " [1.7]\n",
      " [1.5]\n",
      " [1. ]\n",
      " [1.1]\n",
      " [1. ]\n",
      " [1.2]\n",
      " [1.6]\n",
      " [1.5]\n",
      " [1.6]\n",
      " [1.5]\n",
      " [1.3]\n",
      " [1.3]\n",
      " [1.3]\n",
      " [1.2]\n",
      " [1.4]\n",
      " [1.2]\n",
      " [1. ]\n",
      " [1.3]\n",
      " [1.2]\n",
      " [1.3]\n",
      " [1.3]\n",
      " [1.1]\n",
      " [1.3]\n",
      " [2.5]\n",
      " [1.9]\n",
      " [2.1]\n",
      " [1.8]\n",
      " [2.2]\n",
      " [2.1]\n",
      " [1.7]\n",
      " [1.8]\n",
      " [1.8]\n",
      " [2.5]\n",
      " [2. ]\n",
      " [1.9]\n",
      " [2.1]\n",
      " [2. ]\n",
      " [2.4]\n",
      " [2.3]\n",
      " [1.8]\n",
      " [2.2]\n",
      " [2.3]\n",
      " [1.5]\n",
      " [2.3]\n",
      " [2. ]\n",
      " [2. ]\n",
      " [1.8]\n",
      " [2.1]\n",
      " [1.8]\n",
      " [1.8]\n",
      " [1.8]\n",
      " [2.1]\n",
      " [1.6]\n",
      " [1.9]\n",
      " [2. ]\n",
      " [2.2]\n",
      " [1.5]\n",
      " [1.4]\n",
      " [2.3]\n",
      " [2.4]\n",
      " [1.8]\n",
      " [1.8]\n",
      " [2.1]\n",
      " [2.4]\n",
      " [2.3]\n",
      " [1.9]\n",
      " [2.3]\n",
      " [2.5]\n",
      " [2.3]\n",
      " [1.9]\n",
      " [2. ]\n",
      " [2.3]\n",
      " [1.8]]\n",
      "[[0.98552764 0.01447236]\n",
      " [0.98541511 0.01458489]\n",
      " [0.98530171 0.01469829]\n",
      " ...\n",
      " [0.02620686 0.97379314]\n",
      " [0.02600703 0.97399297]\n",
      " [0.02580868 0.97419132]]\n"
     ]
    }
   ],
   "source": [
    "print(X)\n",
    "print(y_proba)"
   ]
  },
  {
   "cell_type": "code",
   "execution_count": 122,
   "metadata": {},
   "outputs": [
    {
     "data": {
      "text/plain": [
       "array([1, 0, 1])"
      ]
     },
     "execution_count": 122,
     "metadata": {},
     "output_type": "execute_result"
    }
   ],
   "source": [
    "log_reg.predict([[1.7], [1.5], [2.0]])"
   ]
  },
  {
   "cell_type": "markdown",
   "metadata": {},
   "source": [
    "## ソフトマックス回帰"
   ]
  },
  {
   "cell_type": "code",
   "execution_count": 123,
   "metadata": {},
   "outputs": [
    {
     "data": {
      "text/plain": [
       "array([[1.4, 0.2],\n",
       "       [1.4, 0.2],\n",
       "       [1.3, 0.2],\n",
       "       [1.5, 0.2],\n",
       "       [1.4, 0.2],\n",
       "       [1.7, 0.4],\n",
       "       [1.4, 0.3],\n",
       "       [1.5, 0.2],\n",
       "       [1.4, 0.2],\n",
       "       [1.5, 0.1],\n",
       "       [1.5, 0.2],\n",
       "       [1.6, 0.2],\n",
       "       [1.4, 0.1],\n",
       "       [1.1, 0.1],\n",
       "       [1.2, 0.2],\n",
       "       [1.5, 0.4],\n",
       "       [1.3, 0.4],\n",
       "       [1.4, 0.3],\n",
       "       [1.7, 0.3],\n",
       "       [1.5, 0.3],\n",
       "       [1.7, 0.2],\n",
       "       [1.5, 0.4],\n",
       "       [1. , 0.2],\n",
       "       [1.7, 0.5],\n",
       "       [1.9, 0.2],\n",
       "       [1.6, 0.2],\n",
       "       [1.6, 0.4],\n",
       "       [1.5, 0.2],\n",
       "       [1.4, 0.2],\n",
       "       [1.6, 0.2],\n",
       "       [1.6, 0.2],\n",
       "       [1.5, 0.4],\n",
       "       [1.5, 0.1],\n",
       "       [1.4, 0.2],\n",
       "       [1.5, 0.1],\n",
       "       [1.2, 0.2],\n",
       "       [1.3, 0.2],\n",
       "       [1.5, 0.1],\n",
       "       [1.3, 0.2],\n",
       "       [1.5, 0.2],\n",
       "       [1.3, 0.3],\n",
       "       [1.3, 0.3],\n",
       "       [1.3, 0.2],\n",
       "       [1.6, 0.6],\n",
       "       [1.9, 0.4],\n",
       "       [1.4, 0.3],\n",
       "       [1.6, 0.2],\n",
       "       [1.4, 0.2],\n",
       "       [1.5, 0.2],\n",
       "       [1.4, 0.2],\n",
       "       [4.7, 1.4],\n",
       "       [4.5, 1.5],\n",
       "       [4.9, 1.5],\n",
       "       [4. , 1.3],\n",
       "       [4.6, 1.5],\n",
       "       [4.5, 1.3],\n",
       "       [4.7, 1.6],\n",
       "       [3.3, 1. ],\n",
       "       [4.6, 1.3],\n",
       "       [3.9, 1.4],\n",
       "       [3.5, 1. ],\n",
       "       [4.2, 1.5],\n",
       "       [4. , 1. ],\n",
       "       [4.7, 1.4],\n",
       "       [3.6, 1.3],\n",
       "       [4.4, 1.4],\n",
       "       [4.5, 1.5],\n",
       "       [4.1, 1. ],\n",
       "       [4.5, 1.5],\n",
       "       [3.9, 1.1],\n",
       "       [4.8, 1.8],\n",
       "       [4. , 1.3],\n",
       "       [4.9, 1.5],\n",
       "       [4.7, 1.2],\n",
       "       [4.3, 1.3],\n",
       "       [4.4, 1.4],\n",
       "       [4.8, 1.4],\n",
       "       [5. , 1.7],\n",
       "       [4.5, 1.5],\n",
       "       [3.5, 1. ],\n",
       "       [3.8, 1.1],\n",
       "       [3.7, 1. ],\n",
       "       [3.9, 1.2],\n",
       "       [5.1, 1.6],\n",
       "       [4.5, 1.5],\n",
       "       [4.5, 1.6],\n",
       "       [4.7, 1.5],\n",
       "       [4.4, 1.3],\n",
       "       [4.1, 1.3],\n",
       "       [4. , 1.3],\n",
       "       [4.4, 1.2],\n",
       "       [4.6, 1.4],\n",
       "       [4. , 1.2],\n",
       "       [3.3, 1. ],\n",
       "       [4.2, 1.3],\n",
       "       [4.2, 1.2],\n",
       "       [4.2, 1.3],\n",
       "       [4.3, 1.3],\n",
       "       [3. , 1.1],\n",
       "       [4.1, 1.3],\n",
       "       [6. , 2.5],\n",
       "       [5.1, 1.9],\n",
       "       [5.9, 2.1],\n",
       "       [5.6, 1.8],\n",
       "       [5.8, 2.2],\n",
       "       [6.6, 2.1],\n",
       "       [4.5, 1.7],\n",
       "       [6.3, 1.8],\n",
       "       [5.8, 1.8],\n",
       "       [6.1, 2.5],\n",
       "       [5.1, 2. ],\n",
       "       [5.3, 1.9],\n",
       "       [5.5, 2.1],\n",
       "       [5. , 2. ],\n",
       "       [5.1, 2.4],\n",
       "       [5.3, 2.3],\n",
       "       [5.5, 1.8],\n",
       "       [6.7, 2.2],\n",
       "       [6.9, 2.3],\n",
       "       [5. , 1.5],\n",
       "       [5.7, 2.3],\n",
       "       [4.9, 2. ],\n",
       "       [6.7, 2. ],\n",
       "       [4.9, 1.8],\n",
       "       [5.7, 2.1],\n",
       "       [6. , 1.8],\n",
       "       [4.8, 1.8],\n",
       "       [4.9, 1.8],\n",
       "       [5.6, 2.1],\n",
       "       [5.8, 1.6],\n",
       "       [6.1, 1.9],\n",
       "       [6.4, 2. ],\n",
       "       [5.6, 2.2],\n",
       "       [5.1, 1.5],\n",
       "       [5.6, 1.4],\n",
       "       [6.1, 2.3],\n",
       "       [5.6, 2.4],\n",
       "       [5.5, 1.8],\n",
       "       [4.8, 1.8],\n",
       "       [5.4, 2.1],\n",
       "       [5.6, 2.4],\n",
       "       [5.1, 2.3],\n",
       "       [5.1, 1.9],\n",
       "       [5.9, 2.3],\n",
       "       [5.7, 2.5],\n",
       "       [5.2, 2.3],\n",
       "       [5. , 1.9],\n",
       "       [5.2, 2. ],\n",
       "       [5.4, 2.3],\n",
       "       [5.1, 1.8]])"
      ]
     },
     "execution_count": 123,
     "metadata": {},
     "output_type": "execute_result"
    }
   ],
   "source": [
    "X = iris[\"data\"][:, (2, 3)]\n",
    "X"
   ]
  },
  {
   "cell_type": "code",
   "execution_count": 124,
   "metadata": {},
   "outputs": [
    {
     "data": {
      "text/plain": [
       "array([0, 0, 0, 0, 0, 0, 0, 0, 0, 0, 0, 0, 0, 0, 0, 0, 0, 0, 0, 0, 0, 0,\n",
       "       0, 0, 0, 0, 0, 0, 0, 0, 0, 0, 0, 0, 0, 0, 0, 0, 0, 0, 0, 0, 0, 0,\n",
       "       0, 0, 0, 0, 0, 0, 1, 1, 1, 1, 1, 1, 1, 1, 1, 1, 1, 1, 1, 1, 1, 1,\n",
       "       1, 1, 1, 1, 1, 1, 1, 1, 1, 1, 1, 1, 1, 1, 1, 1, 1, 1, 1, 1, 1, 1,\n",
       "       1, 1, 1, 1, 1, 1, 1, 1, 1, 1, 1, 1, 2, 2, 2, 2, 2, 2, 2, 2, 2, 2,\n",
       "       2, 2, 2, 2, 2, 2, 2, 2, 2, 2, 2, 2, 2, 2, 2, 2, 2, 2, 2, 2, 2, 2,\n",
       "       2, 2, 2, 2, 2, 2, 2, 2, 2, 2, 2, 2, 2, 2, 2, 2, 2, 2])"
      ]
     },
     "execution_count": 124,
     "metadata": {},
     "output_type": "execute_result"
    }
   ],
   "source": [
    "y = iris[\"target\"]\n",
    "y"
   ]
  },
  {
   "cell_type": "code",
   "execution_count": 131,
   "metadata": {},
   "outputs": [
    {
     "data": {
      "text/plain": [
       "LogisticRegression(C=10, class_weight=None, dual=False, fit_intercept=True,\n",
       "          intercept_scaling=1, max_iter=100, multi_class='multinomial',\n",
       "          n_jobs=1, penalty='l2', random_state=None, solver='lbfgs',\n",
       "          tol=0.0001, verbose=0, warm_start=False)"
      ]
     },
     "execution_count": 131,
     "metadata": {},
     "output_type": "execute_result"
    }
   ],
   "source": [
    "softmax_reg = LogisticRegression(multi_class=\"multinomial\", solver=\"lbfgs\", C=10)\n",
    "softmax_reg.fit(X, y)"
   ]
  },
  {
   "cell_type": "code",
   "execution_count": 132,
   "metadata": {},
   "outputs": [
    {
     "data": {
      "text/plain": [
       "array([2])"
      ]
     },
     "execution_count": 132,
     "metadata": {},
     "output_type": "execute_result"
    }
   ],
   "source": [
    "softmax_reg.predict([[5, 2]])"
   ]
  },
  {
   "cell_type": "code",
   "execution_count": 133,
   "metadata": {},
   "outputs": [
    {
     "data": {
      "text/plain": [
       "array([[6.33134077e-07, 5.75276067e-02, 9.42471760e-01]])"
      ]
     },
     "execution_count": 133,
     "metadata": {},
     "output_type": "execute_result"
    }
   ],
   "source": [
    "softmax_reg.predict_proba([[5, 2]])"
   ]
  },
  {
   "cell_type": "code",
   "execution_count": null,
   "metadata": {},
   "outputs": [],
   "source": []
  }
 ],
 "metadata": {
  "kernelspec": {
   "display_name": "Python 3",
   "language": "python",
   "name": "python3"
  },
  "language_info": {
   "codemirror_mode": {
    "name": "ipython",
    "version": 3
   },
   "file_extension": ".py",
   "mimetype": "text/x-python",
   "name": "python",
   "nbconvert_exporter": "python",
   "pygments_lexer": "ipython3",
   "version": "3.6.5"
  }
 },
 "nbformat": 4,
 "nbformat_minor": 2
}
