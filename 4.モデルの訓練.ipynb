{
 "cells": [
  {
   "cell_type": "markdown",
   "metadata": {},
   "source": [
    "# 線形回帰"
   ]
  },
  {
   "cell_type": "markdown",
   "metadata": {},
   "source": [
    "## 正規方程式"
   ]
  },
  {
   "cell_type": "code",
   "execution_count": 34,
   "metadata": {},
   "outputs": [
    {
     "data": {
      "image/png": "[encoded data removed]",
      "text/plain": [
       "<Figure size 432x288 with 1 Axes>"
      ]
     },
     "metadata": {},
     "output_type": "display_data"
    }
   ],
   "source": [
    "import numpy as np\n",
    "import matplotlib.pyplot as plt\n",
    "\n",
    "X = 2 * np.random.rand(100, 1)\n",
    "y = 4 + 3 * X + np.random.randn(100, 1)\n",
    "plt.plot(X, y, \"b.\")\n",
    "plt.show()"
   ]
  },
  {
   "cell_type": "code",
   "execution_count": 35,
   "metadata": {},
   "outputs": [
    {
     "data": {
      "text/plain": [
       "array([[3.91922413],\n",
       "       [2.90134597]])"
      ]
     },
     "execution_count": 35,
     "metadata": {},
     "output_type": "execute_result"
    }
   ],
   "source": [
    "X_b = np.c_[np.ones((100, 1)), X]\n",
    "theta_best = np.linalg.inv(X_b.T.dot(X_b)).dot(X_b.T).dot(y)\n",
    "theta_best"
   ]
  },
  {
   "cell_type": "code",
   "execution_count": 36,
   "metadata": {},
   "outputs": [
    {
     "data": {
      "text/plain": [
       "array([[3.91922413],\n",
       "       [9.72191606]])"
      ]
     },
     "execution_count": 36,
     "metadata": {},
     "output_type": "execute_result"
    }
   ],
   "source": [
    "X_new = np.array([[0], [2]])\n",
    "X_new_b = np.c_[np.ones((2, 1)), X_new]\n",
    "y_predict = X_new_b.dot(theta_best)\n",
    "y_predict"
   ]
  },
  {
   "cell_type": "code",
   "execution_count": 37,
   "metadata": {},
   "outputs": [
    {
     "data": {
      "image/png": "[encoded data removed]",
      "text/plain": [
       "<Figure size 432x288 with 1 Axes>"
      ]
     },
     "metadata": {},
     "output_type": "display_data"
    }
   ],
   "source": [
    "plt.plot(X_new, y_predict, \"r--\")\n",
    "plt.plot(X, y, \"b.\")\n",
    "plt.axis([0, 2, 0, 15])\n",
    "plt.show()"
   ]
  },
  {
   "cell_type": "code",
   "execution_count": 38,
   "metadata": {},
   "outputs": [
    {
     "data": {
      "text/plain": [
       "(array([3.91922413]), array([[2.90134597]]))"
      ]
     },
     "execution_count": 38,
     "metadata": {},
     "output_type": "execute_result"
    }
   ],
   "source": [
    "from sklearn.linear_model import LinearRegression\n",
    "\n",
    "lin_reg = LinearRegression()\n",
    "lin_reg.fit(X, y)\n",
    "lin_reg.intercept_, lin_reg.coef_"
   ]
  },
  {
   "cell_type": "code",
   "execution_count": 39,
   "metadata": {},
   "outputs": [
    {
     "data": {
      "text/plain": [
       "array([[3.91922413],\n",
       "       [9.72191606]])"
      ]
     },
     "execution_count": 39,
     "metadata": {},
     "output_type": "execute_result"
    }
   ],
   "source": [
    "lin_predict = lin_reg.predict(X_new)\n",
    "lin_predict"
   ]
  },
  {
   "cell_type": "code",
   "execution_count": 40,
   "metadata": {},
   "outputs": [
    {
     "data": {
      "image/png": "[encoded data removed]",
      "text/plain": [
       "<Figure size 432x288 with 1 Axes>"
      ]
     },
     "metadata": {},
     "output_type": "display_data"
    }
   ],
   "source": [
    "plt.plot(X_new, y_predict, \"r--\")\n",
    "plt.plot(X_new, lin_predict, \"g--\")\n",
    "plt.plot(X, y, \"b.\")\n",
    "plt.axis([0, 2, 0, 15])\n",
    "plt.show()"
   ]
  },
  {
   "cell_type": "markdown",
   "metadata": {},
   "source": [
    "# 勾配降下法"
   ]
  },
  {
   "cell_type": "markdown",
   "metadata": {},
   "source": [
    "## バッチ勾配降下法"
   ]
  },
  {
   "cell_type": "code",
   "execution_count": 41,
   "metadata": {},
   "outputs": [
    {
     "data": {
      "text/plain": [
       "array([[1.36354296],\n",
       "       [1.63237412]])"
      ]
     },
     "execution_count": 41,
     "metadata": {},
     "output_type": "execute_result"
    }
   ],
   "source": [
    "eta = 0.1\n",
    "n_iterations = 10000\n",
    "m = 100\n",
    "\n",
    "theta = np.random.randn(2, 1)\n",
    "theta"
   ]
  },
  {
   "cell_type": "code",
   "execution_count": 42,
   "metadata": {},
   "outputs": [
    {
     "data": {
      "text/plain": [
       "array([[3.91922413],\n",
       "       [2.90134597]])"
      ]
     },
     "execution_count": 42,
     "metadata": {},
     "output_type": "execute_result"
    }
   ],
   "source": [
    "for iteration in range(n_iterations):\n",
    "    gradients = 2 / m * X_b.T.dot(X_b.dot(theta) - y)\n",
    "    theta = theta - eta * gradients\n",
    "    \n",
    "theta"
   ]
  },
  {
   "cell_type": "markdown",
   "metadata": {},
   "source": [
    "## 確率的勾配降下法"
   ]
  },
  {
   "cell_type": "code",
   "execution_count": 44,
   "metadata": {},
   "outputs": [
    {
     "data": {
      "text/plain": [
       "array([[ 0.68752845],\n",
       "       [-0.29073466]])"
      ]
     },
     "execution_count": 44,
     "metadata": {},
     "output_type": "execute_result"
    }
   ],
   "source": [
    "n_epochs = 50\n",
    "t0, t1 = 5, 50\n",
    "\n",
    "def learning_schedule(t):\n",
    "    return t0 / (t + t1)\n",
    "\n",
    "theta = np.random.randn(2, 1)\n",
    "theta"
   ]
  },
  {
   "cell_type": "code",
   "execution_count": 48,
   "metadata": {},
   "outputs": [
    {
     "data": {
      "text/plain": [
       "array([[3.90912231],\n",
       "       [2.9533265 ]])"
      ]
     },
     "execution_count": 48,
     "metadata": {},
     "output_type": "execute_result"
    }
   ],
   "source": [
    "for epoch in range(n_epochs):\n",
    "    for i in range(m):\n",
    "        random_index = np.random.randint(m)\n",
    "        xi = X_b[random_index : random_index + 1]\n",
    "        yi = y[random_index : random_index + 1]\n",
    "#        print(\"random_index\", random_index)\n",
    "#        print(\"x_i\", xi)\n",
    "#        print(\"y_i\", yi)\n",
    "        \n",
    "        gradients = 2 * xi.T.dot(xi.dot(theta) - yi)\n",
    "        eta = learning_schedule(epoch * m + i)\n",
    "        theta = theta - eta * gradients\n",
    "#        print(\"theta\", theta)\n",
    "        \n",
    "theta"
   ]
  },
  {
   "cell_type": "code",
   "execution_count": 53,
   "metadata": {},
   "outputs": [
    {
     "name": "stdout",
     "output_type": "stream",
     "text": [
      "intercept: [3.94318925]\n",
      "coef: [2.9199931]\n"
     ]
    }
   ],
   "source": [
    "from sklearn.linear_model import SGDRegressor\n",
    "\n",
    "sgd_reg = SGDRegressor(max_iter=50, penalty=None, eta0=0.1)\n",
    "sgd_reg.fit(X, y.ravel())\n",
    "print(\"intercept:\", sgd_reg.intercept_)\n",
    "print(\"coef:\", sgd_reg.coef_)"
   ]
  },
  {
   "cell_type": "markdown",
   "metadata": {},
   "source": [
    "# 多項式回帰"
   ]
  },
  {
   "cell_type": "code",
   "execution_count": 54,
   "metadata": {
    "scrolled": true
   },
   "outputs": [
    {
     "data": {
      "text/plain": [
       "array([[-1.53664504],\n",
       "       [-1.20127716],\n",
       "       [-0.15811126],\n",
       "       [-0.17124691],\n",
       "       [ 2.05303475],\n",
       "       [ 1.07492172],\n",
       "       [-2.24967345],\n",
       "       [-1.23412077],\n",
       "       [-1.80924512],\n",
       "       [ 2.08134214],\n",
       "       [ 1.25500408],\n",
       "       [ 1.69413915],\n",
       "       [ 1.66879435],\n",
       "       [-2.95651509],\n",
       "       [ 0.03532303],\n",
       "       [-0.27162461],\n",
       "       [-0.45422404],\n",
       "       [-2.22147401],\n",
       "       [ 0.16594162],\n",
       "       [-2.81057056],\n",
       "       [-1.18366622],\n",
       "       [ 1.3468245 ],\n",
       "       [-1.93942799],\n",
       "       [ 0.07359779],\n",
       "       [ 2.32129267],\n",
       "       [-0.31437185],\n",
       "       [ 2.80072213],\n",
       "       [-1.06334435],\n",
       "       [-2.93084501],\n",
       "       [-2.13323593],\n",
       "       [-0.87887382],\n",
       "       [-0.82872851],\n",
       "       [-0.36573954],\n",
       "       [-0.05716653],\n",
       "       [ 2.60779441],\n",
       "       [ 1.08838852],\n",
       "       [-1.44435226],\n",
       "       [ 2.70058483],\n",
       "       [ 2.52390059],\n",
       "       [ 1.05751007],\n",
       "       [-0.09368869],\n",
       "       [-0.62494514],\n",
       "       [ 0.3955999 ],\n",
       "       [ 0.2213418 ],\n",
       "       [-0.10067509],\n",
       "       [ 0.26141304],\n",
       "       [ 2.40958945],\n",
       "       [-2.69918547],\n",
       "       [-0.74159907],\n",
       "       [ 2.70749802],\n",
       "       [ 1.45684581],\n",
       "       [-2.94129975],\n",
       "       [ 0.31018571],\n",
       "       [-1.28362076],\n",
       "       [ 0.92363481],\n",
       "       [-0.91545202],\n",
       "       [ 1.23603196],\n",
       "       [ 0.94101393],\n",
       "       [ 2.11913598],\n",
       "       [ 1.67861358],\n",
       "       [-0.56856388],\n",
       "       [ 0.5804519 ],\n",
       "       [-0.8742328 ],\n",
       "       [-1.87478021],\n",
       "       [ 2.02983677],\n",
       "       [ 1.55572259],\n",
       "       [-0.98088749],\n",
       "       [ 1.96863448],\n",
       "       [-0.36188861],\n",
       "       [ 0.01690316],\n",
       "       [ 0.32453116],\n",
       "       [-0.94791831],\n",
       "       [ 2.9731158 ],\n",
       "       [-1.01842166],\n",
       "       [ 0.03920175],\n",
       "       [-2.91674504],\n",
       "       [ 0.74323576],\n",
       "       [ 1.77620625],\n",
       "       [-2.52068668],\n",
       "       [ 1.33454739],\n",
       "       [-2.44059401],\n",
       "       [ 2.30304135],\n",
       "       [ 1.38176496],\n",
       "       [ 2.35784354],\n",
       "       [-0.91325241],\n",
       "       [-2.31719434],\n",
       "       [-0.92280635],\n",
       "       [-2.55478834],\n",
       "       [ 2.32704671],\n",
       "       [ 1.12817729],\n",
       "       [-1.377805  ],\n",
       "       [-0.4718538 ],\n",
       "       [ 2.12549503],\n",
       "       [-2.36214199],\n",
       "       [ 0.38933903],\n",
       "       [ 0.16370471],\n",
       "       [ 0.06626405],\n",
       "       [ 0.32557724],\n",
       "       [-1.86741141],\n",
       "       [-1.8675981 ]])"
      ]
     },
     "execution_count": 54,
     "metadata": {},
     "output_type": "execute_result"
    }
   ],
   "source": [
    "m = 100\n",
    "X = 6 * np.random.rand(m, 1) - 3\n",
    "X"
   ]
  },
  {
   "cell_type": "code",
   "execution_count": 55,
   "metadata": {
    "scrolled": true
   },
   "outputs": [
    {
     "data": {
      "text/plain": [
       "array([[ 2.54829642e+00],\n",
       "       [ 1.06301946e+00],\n",
       "       [ 1.79847931e+00],\n",
       "       [ 1.95562187e+00],\n",
       "       [ 7.04262326e+00],\n",
       "       [ 4.68557863e+00],\n",
       "       [ 1.39237263e+00],\n",
       "       [ 2.03674897e+00],\n",
       "       [ 2.41131206e+00],\n",
       "       [ 6.14289653e+00],\n",
       "       [ 4.91277471e+00],\n",
       "       [ 4.92083184e+00],\n",
       "       [ 4.71106141e+00],\n",
       "       [ 4.02951333e+00],\n",
       "       [ 1.71033021e+00],\n",
       "       [ 1.17694407e+00],\n",
       "       [ 3.16044834e+00],\n",
       "       [ 1.96876806e+00],\n",
       "       [ 3.33670873e+00],\n",
       "       [ 3.41349151e+00],\n",
       "       [ 2.43965894e+00],\n",
       "       [ 4.20575378e+00],\n",
       "       [ 1.90231784e+00],\n",
       "       [ 2.23930358e+00],\n",
       "       [ 6.51305929e+00],\n",
       "       [ 1.50933230e+00],\n",
       "       [ 9.83177953e+00],\n",
       "       [ 1.32789348e+00],\n",
       "       [ 2.78404352e+00],\n",
       "       [ 2.19154574e+00],\n",
       "       [ 1.36006723e-01],\n",
       "       [ 1.30163355e+00],\n",
       "       [ 2.82319038e+00],\n",
       "       [ 1.87517158e+00],\n",
       "       [ 8.31014226e+00],\n",
       "       [ 3.61079280e+00],\n",
       "       [ 1.47404500e+00],\n",
       "       [ 8.62858776e+00],\n",
       "       [ 8.27044132e+00],\n",
       "       [ 4.25979059e+00],\n",
       "       [ 1.98871946e+00],\n",
       "       [ 2.04497620e+00],\n",
       "       [ 3.14337715e+00],\n",
       "       [ 1.33300074e+00],\n",
       "       [ 2.45679987e+00],\n",
       "       [ 2.60094135e+00],\n",
       "       [ 6.78107486e+00],\n",
       "       [ 2.89911587e+00],\n",
       "       [ 2.40321694e+00],\n",
       "       [ 7.41989720e+00],\n",
       "       [ 4.81121865e+00],\n",
       "       [ 2.01049034e+00],\n",
       "       [ 3.35248058e+00],\n",
       "       [ 7.52384287e-01],\n",
       "       [ 3.77868735e+00],\n",
       "       [-6.33447492e-01],\n",
       "       [ 4.50337080e+00],\n",
       "       [ 2.89216676e+00],\n",
       "       [ 6.69311084e+00],\n",
       "       [ 4.31089367e+00],\n",
       "       [ 1.07053815e+00],\n",
       "       [ 2.93176051e+00],\n",
       "       [ 1.99260420e+00],\n",
       "       [ 2.86696421e+00],\n",
       "       [ 7.06670242e+00],\n",
       "       [ 4.28401143e+00],\n",
       "       [ 3.43217550e-01],\n",
       "       [ 6.07755189e+00],\n",
       "       [ 1.62153867e+00],\n",
       "       [ 2.97280536e+00],\n",
       "       [ 1.65995346e+00],\n",
       "       [ 2.31474330e+00],\n",
       "       [ 8.77108498e+00],\n",
       "       [ 1.48808851e+00],\n",
       "       [ 2.17463094e+00],\n",
       "       [ 4.05452076e+00],\n",
       "       [ 2.94372320e+00],\n",
       "       [ 6.82636126e+00],\n",
       "       [ 1.33930319e+00],\n",
       "       [ 3.30925995e+00],\n",
       "       [ 3.03225715e+00],\n",
       "       [ 6.03380026e+00],\n",
       "       [ 5.19726389e+00],\n",
       "       [ 8.18520519e+00],\n",
       "       [ 5.67030735e-01],\n",
       "       [ 1.15262991e+00],\n",
       "       [ 2.49679946e+00],\n",
       "       [ 2.45633604e+00],\n",
       "       [ 5.76744602e+00],\n",
       "       [ 1.88761150e+00],\n",
       "       [ 4.91370856e-01],\n",
       "       [ 1.23053592e+00],\n",
       "       [ 5.85323933e+00],\n",
       "       [ 1.85974513e+00],\n",
       "       [ 9.93896364e-01],\n",
       "       [ 3.16472235e+00],\n",
       "       [ 1.77029679e+00],\n",
       "       [ 1.97670911e+00],\n",
       "       [ 2.29349339e+00],\n",
       "       [-2.04355344e-03]])"
      ]
     },
     "execution_count": 55,
     "metadata": {},
     "output_type": "execute_result"
    }
   ],
   "source": [
    "y = 0.5 * X ** 2 + X + 2 + np.random.randn(m, 1)\n",
    "y"
   ]
  },
  {
   "cell_type": "code",
   "execution_count": 58,
   "metadata": {},
   "outputs": [
    {
     "data": {
      "image/png": "[encoded data removed]",
      "text/plain": [
       "<Figure size 432x288 with 1 Axes>"
      ]
     },
     "metadata": {},
     "output_type": "display_data"
    }
   ],
   "source": [
    "plt.plot(X, y, \"b.\")\n",
    "plt.show()"
   ]
  },
  {
   "cell_type": "code",
   "execution_count": 69,
   "metadata": {
    "scrolled": true
   },
   "outputs": [
    {
     "data": {
      "text/plain": [
       "array([[-1.53664504e+00,  2.36127799e+00],\n",
       "       [-1.20127716e+00,  1.44306682e+00],\n",
       "       [-1.58111260e-01,  2.49991705e-02],\n",
       "       [-1.71246912e-01,  2.93255048e-02],\n",
       "       [ 2.05303475e+00,  4.21495167e+00],\n",
       "       [ 1.07492172e+00,  1.15545670e+00],\n",
       "       [-2.24967345e+00,  5.06103063e+00],\n",
       "       [-1.23412077e+00,  1.52305407e+00],\n",
       "       [-1.80924512e+00,  3.27336789e+00],\n",
       "       [ 2.08134214e+00,  4.33198511e+00],\n",
       "       [ 1.25500408e+00,  1.57503524e+00],\n",
       "       [ 1.69413915e+00,  2.87010745e+00],\n",
       "       [ 1.66879435e+00,  2.78487457e+00],\n",
       "       [-2.95651509e+00,  8.74098147e+00],\n",
       "       [ 3.53230329e-02,  1.24771666e-03],\n",
       "       [-2.71624611e-01,  7.37799292e-02],\n",
       "       [-4.54224036e-01,  2.06319475e-01],\n",
       "       [-2.22147401e+00,  4.93494678e+00],\n",
       "       [ 1.65941620e-01,  2.75366211e-02],\n",
       "       [-2.81057056e+00,  7.89930686e+00],\n",
       "       [-1.18366622e+00,  1.40106572e+00],\n",
       "       [ 1.34682450e+00,  1.81393623e+00],\n",
       "       [-1.93942799e+00,  3.76138091e+00],\n",
       "       [ 7.35977918e-02,  5.41663496e-03],\n",
       "       [ 2.32129267e+00,  5.38839965e+00],\n",
       "       [-3.14371852e-01,  9.88296613e-02],\n",
       "       [ 2.80072213e+00,  7.84404446e+00],\n",
       "       [-1.06334435e+00,  1.13070120e+00],\n",
       "       [-2.93084501e+00,  8.58985249e+00],\n",
       "       [-2.13323593e+00,  4.55069554e+00],\n",
       "       [-8.78873819e-01,  7.72419189e-01],\n",
       "       [-8.28728509e-01,  6.86790942e-01],\n",
       "       [-3.65739536e-01,  1.33765408e-01],\n",
       "       [-5.71665321e-02,  3.26801239e-03],\n",
       "       [ 2.60779441e+00,  6.80059170e+00],\n",
       "       [ 1.08838852e+00,  1.18458958e+00],\n",
       "       [-1.44435226e+00,  2.08615344e+00],\n",
       "       [ 2.70058483e+00,  7.29315842e+00],\n",
       "       [ 2.52390059e+00,  6.37007418e+00],\n",
       "       [ 1.05751007e+00,  1.11832755e+00],\n",
       "       [-9.36886878e-02,  8.77757022e-03],\n",
       "       [-6.24945142e-01,  3.90556431e-01],\n",
       "       [ 3.95599902e-01,  1.56499282e-01],\n",
       "       [ 2.21341798e-01,  4.89921917e-02],\n",
       "       [-1.00675091e-01,  1.01354740e-02],\n",
       "       [ 2.61413042e-01,  6.83367788e-02],\n",
       "       [ 2.40958945e+00,  5.80612132e+00],\n",
       "       [-2.69918547e+00,  7.28560218e+00],\n",
       "       [-7.41599067e-01,  5.49969177e-01],\n",
       "       [ 2.70749802e+00,  7.33054555e+00],\n",
       "       [ 1.45684581e+00,  2.12239971e+00],\n",
       "       [-2.94129975e+00,  8.65124422e+00],\n",
       "       [ 3.10185710e-01,  9.62151744e-02],\n",
       "       [-1.28362076e+00,  1.64768227e+00],\n",
       "       [ 9.23634811e-01,  8.53101263e-01],\n",
       "       [-9.15452024e-01,  8.38052409e-01],\n",
       "       [ 1.23603196e+00,  1.52777502e+00],\n",
       "       [ 9.41013931e-01,  8.85507218e-01],\n",
       "       [ 2.11913598e+00,  4.49073731e+00],\n",
       "       [ 1.67861358e+00,  2.81774355e+00],\n",
       "       [-5.68563882e-01,  3.23264888e-01],\n",
       "       [ 5.80451897e-01,  3.36924405e-01],\n",
       "       [-8.74232798e-01,  7.64282985e-01],\n",
       "       [-1.87478021e+00,  3.51480082e+00],\n",
       "       [ 2.02983677e+00,  4.12023733e+00],\n",
       "       [ 1.55572259e+00,  2.42027279e+00],\n",
       "       [-9.80887492e-01,  9.62140272e-01],\n",
       "       [ 1.96863448e+00,  3.87552172e+00],\n",
       "       [-3.61888609e-01,  1.30963365e-01],\n",
       "       [ 1.69031570e-02,  2.85716717e-04],\n",
       "       [ 3.24531155e-01,  1.05320471e-01],\n",
       "       [-9.47918307e-01,  8.98549117e-01],\n",
       "       [ 2.97311580e+00,  8.83941756e+00],\n",
       "       [-1.01842166e+00,  1.03718268e+00],\n",
       "       [ 3.92017534e-02,  1.53677747e-03],\n",
       "       [-2.91674504e+00,  8.50740163e+00],\n",
       "       [ 7.43235764e-01,  5.52399401e-01],\n",
       "       [ 1.77620625e+00,  3.15490865e+00],\n",
       "       [-2.52068668e+00,  6.35386132e+00],\n",
       "       [ 1.33454739e+00,  1.78101672e+00],\n",
       "       [-2.44059401e+00,  5.95649911e+00],\n",
       "       [ 2.30304135e+00,  5.30399944e+00],\n",
       "       [ 1.38176496e+00,  1.90927440e+00],\n",
       "       [ 2.35784354e+00,  5.55942617e+00],\n",
       "       [-9.13252415e-01,  8.34029973e-01],\n",
       "       [-2.31719434e+00,  5.36938960e+00],\n",
       "       [-9.22806346e-01,  8.51571552e-01],\n",
       "       [-2.55478834e+00,  6.52694346e+00],\n",
       "       [ 2.32704671e+00,  5.41514637e+00],\n",
       "       [ 1.12817729e+00,  1.27278401e+00],\n",
       "       [-1.37780500e+00,  1.89834660e+00],\n",
       "       [-4.71853796e-01,  2.22646005e-01],\n",
       "       [ 2.12549503e+00,  4.51772911e+00],\n",
       "       [-2.36214199e+00,  5.57971480e+00],\n",
       "       [ 3.89339026e-01,  1.51584877e-01],\n",
       "       [ 1.63704711e-01,  2.67992325e-02],\n",
       "       [ 6.62640517e-02,  4.39092455e-03],\n",
       "       [ 3.25577236e-01,  1.06000537e-01],\n",
       "       [-1.86741141e+00,  3.48722536e+00],\n",
       "       [-1.86759810e+00,  3.48792268e+00]])"
      ]
     },
     "execution_count": 69,
     "metadata": {},
     "output_type": "execute_result"
    }
   ],
   "source": [
    "from sklearn.preprocessing import PolynomialFeatures\n",
    "\n",
    "poly_features = PolynomialFeatures(degree=2, include_bias=False)\n",
    "X_poly = poly_features.fit_transform(X)\n",
    "X_poly"
   ]
  },
  {
   "cell_type": "code",
   "execution_count": 70,
   "metadata": {},
   "outputs": [
    {
     "data": {
      "text/plain": [
       "(array([2.04185369]), array([[1.05031067, 0.47364359]]))"
      ]
     },
     "execution_count": 70,
     "metadata": {},
     "output_type": "execute_result"
    }
   ],
   "source": [
    "lin_reg = LinearRegression()\n",
    "lin_reg.fit(X_poly, y)\n",
    "lin_reg.intercept_, lin_reg.coef_"
   ]
  },
  {
   "cell_type": "markdown",
   "metadata": {},
   "source": [
    "# 学習曲線"
   ]
  },
  {
   "cell_type": "code",
   "execution_count": 78,
   "metadata": {},
   "outputs": [],
   "source": [
    "from sklearn.metrics import mean_squared_error\n",
    "from sklearn.model_selection import train_test_split\n",
    "\n",
    "def plot_learning_curves(model, X, y):\n",
    "    X_train, X_val, y_train, y_val = train_test_split(X, y, test_size=0.2)\n",
    "    train_errors, val_errors = [], []\n",
    "    for m in range(1, len(X_train)):\n",
    "        model.fit(X_train[:m], y_train[:m])\n",
    "        y_train_predict = model.predict(X_train[:m])\n",
    "        y_val_predict = model.predict(X_val)\n",
    "        train_errors.append(mean_squared_error(y_train_predict, y_train[:m]))\n",
    "        val_errors.append(mean_squared_error(y_val_predict, y_val))\n",
    "    plt.plot(np.sqrt(train_errors), \"r-+\", linewidth=2, label=\"train\")\n",
    "    plt.plot(np.sqrt(val_errors), \"b-\", linewidth=3, label=\"val\")"
   ]
  },
  {
   "cell_type": "code",
   "execution_count": 79,
   "metadata": {},
   "outputs": [
    {
     "data": {
      "image/png": "[encoded data removed]",
      "text/plain": [
       "<Figure size 432x288 with 1 Axes>"
      ]
     },
     "metadata": {},
     "output_type": "display_data"
    }
   ],
   "source": [
    "lin_reg = LinearRegression()\n",
    "plot_learning_curves(lin_reg, X, y)"
   ]
  },
  {
   "cell_type": "code",
   "execution_count": 85,
   "metadata": {},
   "outputs": [
    {
     "data": {
      "image/png": "[encoded data removed]",
      "text/plain": [
       "<Figure size 432x288 with 1 Axes>"
      ]
     },
     "metadata": {},
     "output_type": "display_data"
    }
   ],
   "source": [
    "from sklearn.pipeline import Pipeline\n",
    "\n",
    "polynomial_regression = Pipeline([\n",
    "    (\"poly_features\", PolynomialFeatures(degree=10, include_bias=False)),\n",
    "    (\"lin_reg\", LinearRegression())\n",
    "])\n",
    "\n",
    "plot_learning_curves(polynomial_regression, X, y)"
   ]
  },
  {
   "cell_type": "markdown",
   "metadata": {},
   "source": [
    "# 正則化された線形回帰"
   ]
  },
  {
   "cell_type": "markdown",
   "metadata": {},
   "source": [
    "## リッジ回帰"
   ]
  },
  {
   "cell_type": "code",
   "execution_count": 93,
   "metadata": {},
   "outputs": [
    {
     "data": {
      "text/plain": [
       "array([[4.81902224]])"
      ]
     },
     "execution_count": 93,
     "metadata": {},
     "output_type": "execute_result"
    }
   ],
   "source": [
    "from sklearn.linear_model import Ridge\n",
    "\n",
    "ridge_reg = Ridge(alpha=1, solver=\"cholesky\")\n",
    "ridge_reg.fit(X, y)\n",
    "ridge_reg.predict([[1.5]])"
   ]
  },
  {
   "cell_type": "code",
   "execution_count": 98,
   "metadata": {},
   "outputs": [
    {
     "data": {
      "text/plain": [
       "array([4.00075733])"
      ]
     },
     "execution_count": 98,
     "metadata": {},
     "output_type": "execute_result"
    }
   ],
   "source": [
    "sgd_reg = SGDRegressor(max_iter=5, penalty=\"l2\")\n",
    "sgd_reg.fit(X, y.ravel())\n",
    "sgd_reg.predict([[1.5]])"
   ]
  },
  {
   "cell_type": "markdown",
   "metadata": {},
   "source": [
    "## Lasso回帰"
   ]
  },
  {
   "cell_type": "code",
   "execution_count": 99,
   "metadata": {},
   "outputs": [
    {
     "data": {
      "text/plain": [
       "array([4.76765329])"
      ]
     },
     "execution_count": 99,
     "metadata": {},
     "output_type": "execute_result"
    }
   ],
   "source": [
    "from sklearn.linear_model import Lasso\n",
    "\n",
    "lasso_reg = Lasso(alpha=0.1)\n",
    "lasso_reg.fit(X, y)\n",
    "lasso_reg.predict([[1.5]])"
   ]
  },
  {
   "cell_type": "code",
   "execution_count": 100,
   "metadata": {},
   "outputs": [
    {
     "data": {
      "text/plain": [
       "array([3.97477945])"
      ]
     },
     "execution_count": 100,
     "metadata": {},
     "output_type": "execute_result"
    }
   ],
   "source": [
    "sgd_reg = SGDRegressor(max_iter=5, penalty=\"l1\")\n",
    "sgd_reg.fit(X, y.ravel())\n",
    "sgd_reg.predict([[1.5]])"
   ]
  },
  {
   "cell_type": "markdown",
   "metadata": {},
   "source": [
    "## Elastic Net"
   ]
  },
  {
   "cell_type": "code",
   "execution_count": 101,
   "metadata": {},
   "outputs": [
    {
     "data": {
      "text/plain": [
       "array([4.76820844])"
      ]
     },
     "execution_count": 101,
     "metadata": {},
     "output_type": "execute_result"
    }
   ],
   "source": [
    "from sklearn.linear_model import ElasticNet\n",
    "\n",
    "elastic_net = ElasticNet(alpha=0.1, l1_ratio=0.5)\n",
    "elastic_net.fit(X, y)\n",
    "elastic_net.predict([[1.5]])"
   ]
  },
  {
   "cell_type": "markdown",
   "metadata": {},
   "source": [
    "## 早期打ち切り"
   ]
  },
  {
   "cell_type": "code",
   "execution_count": 111,
   "metadata": {},
   "outputs": [
    {
     "name": "stdout",
     "output_type": "stream",
     "text": [
      "0.9093170677174163\n",
      "39\n",
      "SGDRegressor(alpha=0.0001, average=False, epsilon=0.1, eta0=0.0005,\n",
      "       fit_intercept=True, l1_ratio=0.15, learning_rate='constant',\n",
      "       loss='squared_loss', max_iter=1, n_iter=None, penalty=None,\n",
      "       power_t=0.25, random_state=None, shuffle=True, tol=None, verbose=0,\n",
      "       warm_start=True)\n"
     ]
    }
   ],
   "source": [
    "from sklearn.base import clone\n",
    "from sklearn.preprocessing import StandardScaler\n",
    "\n",
    "X_train, X_val, y_train, y_val = train_test_split(X, y, test_size=0.2)\n",
    "\n",
    "poly_scaler = Pipeline([\n",
    "    (\"poly_features\", PolynomialFeatures(degree=90, include_bias=False)),\n",
    "    (\"std_scaler\", StandardScaler())\n",
    "])\n",
    "\n",
    "X_train_poly_scaled = poly_scaler.fit_transform(X_train)\n",
    "X_val_poly_scaled = poly_scaler.transform(X_val)\n",
    "\n",
    "sgd_reg = SGDRegressor(max_iter=1, warm_start=True, penalty=None, learning_rate=\"constant\", eta0=0.0005)\n",
    "\n",
    "minimum_val_error = float(\"inf\")\n",
    "best_epoch = None\n",
    "best_model = None\n",
    "\n",
    "for epoch in range(1000):\n",
    "    sgd_reg.fit(X_train_poly_scaled, y_train.ravel())\n",
    "    y_val_predict = sgd_reg.predict(X_val_poly_scaled)\n",
    "    val_error = mean_squared_error(y_val_predict, y_val)\n",
    "    if val_error < minimum_val_error:\n",
    "        minimum_val_error = val_error\n",
    "        best_epoch = epoch\n",
    "        best_model = clone(sgd_reg)\n",
    "        \n",
    "print(minimum_val_error)\n",
    "print(best_epoch)\n",
    "print(best_model)"
   ]
  },
  {
   "cell_type": "markdown",
   "metadata": {},
   "source": [
    "# ロジスティック回帰"
   ]
  },
  {
   "cell_type": "code",
   "execution_count": 112,
   "metadata": {},
   "outputs": [
    {
     "data": {
      "text/plain": [
       "['data', 'target', 'target_names', 'DESCR', 'feature_names']"
      ]
     },
     "execution_count": 112,
     "metadata": {},
     "output_type": "execute_result"
    }
   ],
   "source": [
    "from sklearn import datasets\n",
    "\n",
    "iris = datasets.load_iris()\n",
    "list(iris.keys())"
   ]
  },
  {
   "cell_type": "code",
   "execution_count": 113,
   "metadata": {},
   "outputs": [],
   "source": [
    "X = iris[\"data\"][:, 3:]\n",
    "y = (iris[\"target\"] == 2).astype(np.int)"
   ]
  },
  {
   "cell_type": "code",
   "execution_count": 114,
   "metadata": {},
   "outputs": [
    {
     "data": {
      "text/plain": [
       "LogisticRegression(C=1.0, class_weight=None, dual=False, fit_intercept=True,\n",
       "          intercept_scaling=1, max_iter=100, multi_class='ovr', n_jobs=1,\n",
       "          penalty='l2', random_state=None, solver='liblinear', tol=0.0001,\n",
       "          verbose=0, warm_start=False)"
      ]
     },
     "execution_count": 114,
     "metadata": {},
     "output_type": "execute_result"
    }
   ],
   "source": [
    "from sklearn.linear_model import LogisticRegression\n",
    "\n",
    "log_reg = LogisticRegression()\n",
    "log_reg.fit(X, y)"
   ]
  },
  {
   "cell_type": "code",
   "execution_count": 115,
   "metadata": {},
   "outputs": [
    {
     "data": {
      "image/png": "[encoded data removed]",
      "text/plain": [
       "<Figure size 432x288 with 1 Axes>"
      ]
     },
     "metadata": {},
     "output_type": "display_data"
    }
   ],
   "source": [
    "X_new = np.linspace(0, 3, 1000).reshape(-1, 1)\n",
    "y_proba = log_reg.predict_proba(X_new)\n",
    "\n",
    "plt.plot(X_new, y_proba[:, 1], \"g--\", label=\"Iris-Virginica\")\n",
    "plt.plot(X_new, y_proba[:, 0], \"b--\", label=\"Not Iris-Virginica\")\n",
    "plt.show()"
   ]
  },
  {
   "cell_type": "code",
   "execution_count": 118,
   "metadata": {},
   "outputs": [
    {
     "name": "stdout",
     "output_type": "stream",
     "text": [
      "[[0.2]\n",
      " [0.2]\n",
      " [0.2]\n",
      " [0.2]\n",
      " [0.2]\n",
      " [0.4]\n",
      " [0.3]\n",
      " [0.2]\n",
      " [0.2]\n",
      " [0.1]\n",
      " [0.2]\n",
      " [0.2]\n",
      " [0.1]\n",
      " [0.1]\n",
      " [0.2]\n",
      " [0.4]\n",
      " [0.4]\n",
      " [0.3]\n",
      " [0.3]\n",
      " [0.3]\n",
      " [0.2]\n",
      " [0.4]\n",
      " [0.2]\n",
      " [0.5]\n",
      " [0.2]\n",
      " [0.2]\n",
      " [0.4]\n",
      " [0.2]\n",
      " [0.2]\n",
      " [0.2]\n",
      " [0.2]\n",
      " [0.4]\n",
      " [0.1]\n",
      " [0.2]\n",
      " [0.1]\n",
      " [0.2]\n",
      " [0.2]\n",
      " [0.1]\n",
      " [0.2]\n",
      " [0.2]\n",
      " [0.3]\n",
      " [0.3]\n",
      " [0.2]\n",
      " [0.6]\n",
      " [0.4]\n",
      " [0.3]\n",
      " [0.2]\n",
      " [0.2]\n",
      " [0.2]\n",
      " [0.2]\n",
      " [1.4]\n",
      " [1.5]\n",
      " [1.5]\n",
      " [1.3]\n",
      " [1.5]\n",
      " [1.3]\n",
      " [1.6]\n",
      " [1. ]\n",
      " [1.3]\n",
      " [1.4]\n",
      " [1. ]\n",
      " [1.5]\n",
      " [1. ]\n",
      " [1.4]\n",
      " [1.3]\n",
      " [1.4]\n",
      " [1.5]\n",
      " [1. ]\n",
      " [1.5]\n",
      " [1.1]\n",
      " [1.8]\n",
      " [1.3]\n",
      " [1.5]\n",
      " [1.2]\n",
      " [1.3]\n",
      " [1.4]\n",
      " [1.4]\n",
      " [1.7]\n",
      " [1.5]\n",
      " [1. ]\n",
      " [1.1]\n",
      " [1. ]\n",
      " [1.2]\n",
      " [1.6]\n",
      " [1.5]\n",
      " [1.6]\n",
      " [1.5]\n",
      " [1.3]\n",
      " [1.3]\n",
      " [1.3]\n",
      " [1.2]\n",
      " [1.4]\n",
      " [1.2]\n",
      " [1. ]\n",
      " [1.3]\n",
      " [1.2]\n",
      " [1.3]\n",
      " [1.3]\n",
      " [1.1]\n",
      " [1.3]\n",
      " [2.5]\n",
      " [1.9]\n",
      " [2.1]\n",
      " [1.8]\n",
      " [2.2]\n",
      " [2.1]\n",
      " [1.7]\n",
      " [1.8]\n",
      " [1.8]\n",
      " [2.5]\n",
      " [2. ]\n",
      " [1.9]\n",
      " [2.1]\n",
      " [2. ]\n",
      " [2.4]\n",
      " [2.3]\n",
      " [1.8]\n",
      " [2.2]\n",
      " [2.3]\n",
      " [1.5]\n",
      " [2.3]\n",
      " [2. ]\n",
      " [2. ]\n",
      " [1.8]\n",
      " [2.1]\n",
      " [1.8]\n",
      " [1.8]\n",
      " [1.8]\n",
      " [2.1]\n",
      " [1.6]\n",
      " [1.9]\n",
      " [2. ]\n",
      " [2.2]\n",
      " [1.5]\n",
      " [1.4]\n",
      " [2.3]\n",
      " [2.4]\n",
      " [1.8]\n",
      " [1.8]\n",
      " [2.1]\n",
      " [2.4]\n",
      " [2.3]\n",
      " [1.9]\n",
      " [2.3]\n",
      " [2.5]\n",
      " [2.3]\n",
      " [1.9]\n",
      " [2. ]\n",
      " [2.3]\n",
      " [1.8]]\n",
      "[[0.98552764 0.01447236]\n",
      " [0.98541511 0.01458489]\n",
      " [0.98530171 0.01469829]\n",
      " ...\n",
      " [0.02620686 0.97379314]\n",
      " [0.02600703 0.97399297]\n",
      " [0.02580868 0.97419132]]\n"
     ]
    }
   ],
   "source": [
    "print(X)\n",
    "print(y_proba)"
   ]
  },
  {
   "cell_type": "code",
   "execution_count": 122,
   "metadata": {},
   "outputs": [
    {
     "data": {
      "text/plain": [
       "array([1, 0, 1])"
      ]
     },
     "execution_count": 122,
     "metadata": {},
     "output_type": "execute_result"
    }
   ],
   "source": [
    "log_reg.predict([[1.7], [1.5], [2.0]])"
   ]
  },
  {
   "cell_type": "markdown",
   "metadata": {},
   "source": [
    "## ソフトマックス回帰"
   ]
  },
  {
   "cell_type": "code",
   "execution_count": 123,
   "metadata": {},
   "outputs": [
    {
     "data": {
      "text/plain": [
       "array([[1.4, 0.2],\n",
       "       [1.4, 0.2],\n",
       "       [1.3, 0.2],\n",
       "       [1.5, 0.2],\n",
       "       [1.4, 0.2],\n",
       "       [1.7, 0.4],\n",
       "       [1.4, 0.3],\n",
       "       [1.5, 0.2],\n",
       "       [1.4, 0.2],\n",
       "       [1.5, 0.1],\n",
       "       [1.5, 0.2],\n",
       "       [1.6, 0.2],\n",
       "       [1.4, 0.1],\n",
       "       [1.1, 0.1],\n",
       "       [1.2, 0.2],\n",
       "       [1.5, 0.4],\n",
       "       [1.3, 0.4],\n",
       "       [1.4, 0.3],\n",
       "       [1.7, 0.3],\n",
       "       [1.5, 0.3],\n",
       "       [1.7, 0.2],\n",
       "       [1.5, 0.4],\n",
       "       [1. , 0.2],\n",
       "       [1.7, 0.5],\n",
       "       [1.9, 0.2],\n",
       "       [1.6, 0.2],\n",
       "       [1.6, 0.4],\n",
       "       [1.5, 0.2],\n",
       "       [1.4, 0.2],\n",
       "       [1.6, 0.2],\n",
       "       [1.6, 0.2],\n",
       "       [1.5, 0.4],\n",
       "       [1.5, 0.1],\n",
       "       [1.4, 0.2],\n",
       "       [1.5, 0.1],\n",
       "       [1.2, 0.2],\n",
       "       [1.3, 0.2],\n",
       "       [1.5, 0.1],\n",
       "       [1.3, 0.2],\n",
       "       [1.5, 0.2],\n",
       "       [1.3, 0.3],\n",
       "       [1.3, 0.3],\n",
       "       [1.3, 0.2],\n",
       "       [1.6, 0.6],\n",
       "       [1.9, 0.4],\n",
       "       [1.4, 0.3],\n",
       "       [1.6, 0.2],\n",
       "       [1.4, 0.2],\n",
       "       [1.5, 0.2],\n",
       "       [1.4, 0.2],\n",
       "       [4.7, 1.4],\n",
       "       [4.5, 1.5],\n",
       "       [4.9, 1.5],\n",
       "       [4. , 1.3],\n",
       "       [4.6, 1.5],\n",
       "       [4.5, 1.3],\n",
       "       [4.7, 1.6],\n",
       "       [3.3, 1. ],\n",
       "       [4.6, 1.3],\n",
       "       [3.9, 1.4],\n",
       "       [3.5, 1. ],\n",
       "       [4.2, 1.5],\n",
       "       [4. , 1. ],\n",
       "       [4.7, 1.4],\n",
       "       [3.6, 1.3],\n",
       "       [4.4, 1.4],\n",
       "       [4.5, 1.5],\n",
       "       [4.1, 1. ],\n",
       "       [4.5, 1.5],\n",
       "       [3.9, 1.1],\n",
       "       [4.8, 1.8],\n",
       "       [4. , 1.3],\n",
       "       [4.9, 1.5],\n",
       "       [4.7, 1.2],\n",
       "       [4.3, 1.3],\n",
       "       [4.4, 1.4],\n",
       "       [4.8, 1.4],\n",
       "       [5. , 1.7],\n",
       "       [4.5, 1.5],\n",
       "       [3.5, 1. ],\n",
       "       [3.8, 1.1],\n",
       "       [3.7, 1. ],\n",
       "       [3.9, 1.2],\n",
       "       [5.1, 1.6],\n",
       "       [4.5, 1.5],\n",
       "       [4.5, 1.6],\n",
       "       [4.7, 1.5],\n",
       "       [4.4, 1.3],\n",
       "       [4.1, 1.3],\n",
       "       [4. , 1.3],\n",
       "       [4.4, 1.2],\n",
       "       [4.6, 1.4],\n",
       "       [4. , 1.2],\n",
       "       [3.3, 1. ],\n",
       "       [4.2, 1.3],\n",
       "       [4.2, 1.2],\n",
       "       [4.2, 1.3],\n",
       "       [4.3, 1.3],\n",
       "       [3. , 1.1],\n",
       "       [4.1, 1.3],\n",
       "       [6. , 2.5],\n",
       "       [5.1, 1.9],\n",
       "       [5.9, 2.1],\n",
       "       [5.6, 1.8],\n",
       "       [5.8, 2.2],\n",
       "       [6.6, 2.1],\n",
       "       [4.5, 1.7],\n",
       "       [6.3, 1.8],\n",
       "       [5.8, 1.8],\n",
       "       [6.1, 2.5],\n",
       "       [5.1, 2. ],\n",
       "       [5.3, 1.9],\n",
       "       [5.5, 2.1],\n",
       "       [5. , 2. ],\n",
       "       [5.1, 2.4],\n",
       "       [5.3, 2.3],\n",
       "       [5.5, 1.8],\n",
       "       [6.7, 2.2],\n",
       "       [6.9, 2.3],\n",
       "       [5. , 1.5],\n",
       "       [5.7, 2.3],\n",
       "       [4.9, 2. ],\n",
       "       [6.7, 2. ],\n",
       "       [4.9, 1.8],\n",
       "       [5.7, 2.1],\n",
       "       [6. , 1.8],\n",
       "       [4.8, 1.8],\n",
       "       [4.9, 1.8],\n",
       "       [5.6, 2.1],\n",
       "       [5.8, 1.6],\n",
       "       [6.1, 1.9],\n",
       "       [6.4, 2. ],\n",
       "       [5.6, 2.2],\n",
       "       [5.1, 1.5],\n",
       "       [5.6, 1.4],\n",
       "       [6.1, 2.3],\n",
       "       [5.6, 2.4],\n",
       "       [5.5, 1.8],\n",
       "       [4.8, 1.8],\n",
       "       [5.4, 2.1],\n",
       "       [5.6, 2.4],\n",
       "       [5.1, 2.3],\n",
       "       [5.1, 1.9],\n",
       "       [5.9, 2.3],\n",
       "       [5.7, 2.5],\n",
       "       [5.2, 2.3],\n",
       "       [5. , 1.9],\n",
       "       [5.2, 2. ],\n",
       "       [5.4, 2.3],\n",
       "       [5.1, 1.8]])"
      ]
     },
     "execution_count": 123,
     "metadata": {},
     "output_type": "execute_result"
    }
   ],
   "source": [
    "X = iris[\"data\"][:, (2, 3)]\n",
    "X"
   ]
  },
  {
   "cell_type": "code",
   "execution_count": 124,
   "metadata": {},
   "outputs": [
    {
     "data": {
      "text/plain": [
       "array([0, 0, 0, 0, 0, 0, 0, 0, 0, 0, 0, 0, 0, 0, 0, 0, 0, 0, 0, 0, 0, 0,\n",
       "       0, 0, 0, 0, 0, 0, 0, 0, 0, 0, 0, 0, 0, 0, 0, 0, 0, 0, 0, 0, 0, 0,\n",
       "       0, 0, 0, 0, 0, 0, 1, 1, 1, 1, 1, 1, 1, 1, 1, 1, 1, 1, 1, 1, 1, 1,\n",
       "       1, 1, 1, 1, 1, 1, 1, 1, 1, 1, 1, 1, 1, 1, 1, 1, 1, 1, 1, 1, 1, 1,\n",
       "       1, 1, 1, 1, 1, 1, 1, 1, 1, 1, 1, 1, 2, 2, 2, 2, 2, 2, 2, 2, 2, 2,\n",
       "       2, 2, 2, 2, 2, 2, 2, 2, 2, 2, 2, 2, 2, 2, 2, 2, 2, 2, 2, 2, 2, 2,\n",
       "       2, 2, 2, 2, 2, 2, 2, 2, 2, 2, 2, 2, 2, 2, 2, 2, 2, 2])"
      ]
     },
     "execution_count": 124,
     "metadata": {},
     "output_type": "execute_result"
    }
   ],
   "source": [
    "y = iris[\"target\"]\n",
    "y"
   ]
  },
  {
   "cell_type": "code",
   "execution_count": 131,
   "metadata": {},
   "outputs": [
    {
     "data": {
      "text/plain": [
       "LogisticRegression(C=10, class_weight=None, dual=False, fit_intercept=True,\n",
       "          intercept_scaling=1, max_iter=100, multi_class='multinomial',\n",
       "          n_jobs=1, penalty='l2', random_state=None, solver='lbfgs',\n",
       "          tol=0.0001, verbose=0, warm_start=False)"
      ]
     },
     "execution_count": 131,
     "metadata": {},
     "output_type": "execute_result"
    }
   ],
   "source": [
    "softmax_reg = LogisticRegression(multi_class=\"multinomial\", solver=\"lbfgs\", C=10)\n",
    "softmax_reg.fit(X, y)"
   ]
  },
  {
   "cell_type": "code",
   "execution_count": 132,
   "metadata": {},
   "outputs": [
    {
     "data": {
      "text/plain": [
       "array([2])"
      ]
     },
     "execution_count": 132,
     "metadata": {},
     "output_type": "execute_result"
    }
   ],
   "source": [
    "softmax_reg.predict([[5, 2]])"
   ]
  },
  {
   "cell_type": "code",
   "execution_count": 133,
   "metadata": {},
   "outputs": [
    {
     "data": {
      "text/plain": [
       "array([[6.33134077e-07, 5.75276067e-02, 9.42471760e-01]])"
      ]
     },
     "execution_count": 133,
     "metadata": {},
     "output_type": "execute_result"
    }
   ],
   "source": [
    "softmax_reg.predict_proba([[5, 2]])"
   ]
  },
  {
   "cell_type": "code",
   "execution_count": null,
   "metadata": {},
   "outputs": [],
   "source": []
  }
 ],
 "metadata": {
  "kernelspec": {
   "display_name": "Python 3",
   "language": "python",
   "name": "python3"
  },
  "language_info": {
   "codemirror_mode": {
    "name": "ipython",
    "version": 3
   },
   "file_extension": ".py",
   "mimetype": "text/x-python",
   "name": "python",
   "nbconvert_exporter": "python",
   "pygments_lexer": "ipython3",
   "version": "3.6.5"
  }
 },
 "nbformat": 4,
 "nbformat_minor": 2
}
